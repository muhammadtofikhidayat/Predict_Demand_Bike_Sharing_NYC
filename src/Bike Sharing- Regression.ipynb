{
 "cells": [
  {
   "cell_type": "markdown",
   "metadata": {
    "id": "vR9EXoMuk-Au"
   },
   "source": [
    "### **Bike Sharing**"
   ]
  },
  {
   "cell_type": "markdown",
   "metadata": {
    "id": "XLmmP-umk-Az"
   },
   "source": [
    "[Sumber data Bike Sharing](https://drive.google.com/drive/folders/17Mw_4wSRiBB5vLLQJN137AlAbyB3CLFx) \n",
    "\n",
    "### **Contents**\n",
    "\n",
    "1. Business Problem Understanding\n",
    "2. Data Understanding\n",
    "3. Data Preprocessing\n",
    "4. Modeling\n",
    "5. Conclusion\n",
    "6. Recommendation\n",
    "\n",
    "****"
   ]
  },
  {
   "cell_type": "markdown",
   "metadata": {
    "id": "4AfFAHobk-A1"
   },
   "source": [
    "### **Business Problem Understanding**"
   ]
  },
  {
   "cell_type": "markdown",
   "metadata": {
    "id": "-vzFEqaok-A1"
   },
   "source": [
    "**Context**\n",
    "\n",
    "Sistem berbagi sepeda adalah generasi baru dari persewaan sepeda tradisional yang seluruh prosesnya, mulai dari keanggotaan, penyewaan, dan pengembalian, menjadi otomatis. Melalui sistem tersebut, pengguna dapat dengan mudah menyewa sepeda dari posisi tertentu dan kembali lagi pada posisi lain. Saat ini, terdapat sekitar lebih dari 500 program berbagi sepeda di seluruh dunia yang terdiri dari lebih dari 500 ribu sepeda. Saat ini, terdapat minat yang besar terhadap sistem ini karena peran pentingnya dalam masalah lalu lintas, lingkungan, dan kesehatan.\n",
    "\n",
    "Terlepas dari penerapan sistem berbagi sepeda di dunia nyata yang menarik, karakteristik data yang dihasilkan oleh sistem ini menjadikannya menarik untuk penelitian. Berbeda dengan layanan transportasi lain seperti bus atau kereta bawah tanah, durasi perjalanan, keberangkatan, dan posisi kedatangan dicatat secara eksplisit dalam sistem ini. Fitur ini mengubah sistem bike sharing menjadi jaringan sensor virtual yang dapat digunakan untuk mendeteksi mobilitas dalam kota. Oleh karena itu, peristiwa-peristiwa terpenting di kota tersebut diharapkan dapat dideteksi dengan memantau data ini."
   ]
  },
  {
   "cell_type": "markdown",
   "metadata": {
    "id": "4-oTdPw1k-A2"
   },
   "source": [
    "**Problem Statement**\n",
    "\n",
    "Dengan permintaan penggunaan bike sharing yang terus meningkat, penempatan ketersedian sepeda yang stabil disetiap lokasi menjadi hal yang sangat diperhitungkan. Bila mana ketersedian disuatu lokasi tidak seimbang dengan perminat pengguna sepeda, maka para pesepeda akan menunggu waktu hingga ketersedian sepeda tersedia kembali, kondisi seperti ini akan membuat para pesepeda mencari alternatif lain seperti menggunakan transpotasi lain sehingga kondisi ini akan mengurangi pendapatan penyedia. sedangkan jika menempatkan sepeda yang lebih banyak disuatu lokasi yang kurang efektif akan juga berdampak bagi pengeluaran biaya yang tinggi. oleh karena itu **permintaan dari para pesepeda harus diimbangi dengan tingkat ketersedian sepeda disetiap lokasi yang akan dipertimbangkan dari segi waktu dan kondisi, sehingga penyedia dapat menyediakan kapasitas sepeda yang cukup saat dibutuhkan dan mengurangi ketersedian sepeda pada suatu lokasi yang kurang efektif.**"
   ]
  },
  {
   "cell_type": "markdown",
   "metadata": {
    "id": "RdtbYxCck-A3"
   },
   "source": [
    "**Goals**\n",
    "\n",
    "Berdasarkan permasalahan tersebut, penyedia bike sharing perlu memiliki prediksi tolls **guna memprediksi jumlah pengguna bike share pada lokasi dan kondisi tertentu seperti mempertimbangkan cuaca, hari , musim dan lainya**. Harapanya dengan adanya prediksi tolls ini dapat membantu penyedia sepeda untuk menempatkan sepeda-sepeda ke lokasi yang lebih efektif hall ini juga akan meningkatkan potensi pedapatan penyedia dan kepercayaan terhadap pengguna layanan bike share."
   ]
  },
  {
   "cell_type": "markdown",
   "metadata": {
    "id": "cL9ZaGMtk-A4"
   },
   "source": [
    "**Analytic Approach**\n",
    "\n",
    "Jadi, yang perlu kita lakukan adalah menganalisis data untuk dapat menemukan pola dari fitur-fitur yang ada, yang membedakan satu kondisi dengan yang lainnya, dengan mempertimbangkan kondisi tersebut menempatkan jumlah sepeda yang tepat pada lokasi yang berpotensi tinggi terhadap pengguna. \n",
    "\n",
    "Selanjutnya, akan dibuat suatu model regresi yang bertujuan untuk menentukan jumlah unit sepeda yang diperlu disediakan oleh penyedia bike share. "
   ]
  },
  {
   "cell_type": "markdown",
   "metadata": {
    "id": "kRzB4C33k-A5"
   },
   "source": [
    "**Metric Evaluation**\n",
    "\n",
    "Evaluasi metrik yang akan digunakan adalah RMSE, MAE, dan MAPE, di mana RMSE adalah nilai rataan akar kuadrat dari error, MAE adalah rataan nilai absolut dari error, sedangkan MAPE adalah rataan persentase error yang dihasilkan oleh model regresi. Semakin kecil nilai RMSE, MAE, dan MAPE yang dihasilkan, berarti model semakin akurat dalam memprediksi banyaknya permintaan bike sharing dengan limitasi fitur yang digunakan. \n",
    "\n",
    "Selain itu, kita juga bisa menggunakan nilai R-squared atau adj. R-squared jika model yang nanti terpilih sebagai final model adalah model linear. Nilai R-squared digunakan untuk mengetahui seberapa baik model dapat merepresentasikan varians keseluruhan data. Semakin mendekati 1, maka semakin fit pula modelnya terhadap data observasi. Namun, metrik ini tidak valid untuk model non-linear."
   ]
  },
  {
   "cell_type": "markdown",
   "metadata": {
    "id": "Ax01kFWQk-A6"
   },
   "source": [
    "### **Data Understanding**"
   ]
  },
  {
   "cell_type": "markdown",
   "metadata": {
    "id": "T-jbFGz_k-A7"
   },
   "source": [
    "- Dataset merupakan data Bike Sharing di kota Washington, Dc pada tahun **2011** sapai dengan **2012**.\n",
    "- Setiap baris data merepresentasikan informasi terkait waktu penyewa, kondisi lingkungan dan banyaknya pengguna sepeda yang disewa.\n",
    "\n",
    "**Attributes Information**\n",
    "\n",
    "| **Attribute** | **Data Type** | **Description** |\n",
    "| --- | --- | --- |\n",
    "| dteday | object | date  |\n",
    "| season | Integer |1: winter, 2: spring, 3: summer, 4: fall|\n",
    "| hr | Integer | hour (0 to 23) |\n",
    "| holiday | Interger | 0:not holiday, 1:holiday |\n",
    "| temp | Float | normalized temperature in Celsius. The values are derived via (t-tmin)/(tmax-tmin), tmin=-8,  t_max=+39 (only in hourly scale)|\n",
    "| atemp | Float | Normalized feeling temperature in Celsius. The values are derived via (t-tmin)/(tmax-tmin), tmin=-16, t_max=+50 (only in hourly scale) |\n",
    "| hum | Float | normalized humidity. The values are divided into 100 (max) |\n",
    "| casual | Integer | count of casual users |\n",
    "| registered | Integer | count of registered users |\n",
    "| cnt | Integer | count of total rental bikes including both casual and registered |\n",
    "| weathersit | Integer | 1: Clear, Few clouds, Partly cloudy, Partly cloudy| \n",
    "|||2: Mist + Cloudy, Mist + Broken clouds, Mist + Few clouds, Mist,|\n",
    "|||3: Light Snow, Light Rain + Thunderstorm + Scattered clouds, Light Rain + Scattered cloud, \n",
    "|||4: Heavy Rain + Ice Pallets + Thunderstorm + Mist, Snow + Fog |\n",
    "<br>"
   ]
  },
  {
   "cell_type": "code",
   "execution_count": 915,
   "metadata": {
    "id": "e5ryyvXuk-A7"
   },
   "outputs": [],
   "source": [
    "# Import library yang dibutuhkan untuk eksplorasi dataset\n",
    "import pandas as pd \n",
    "import numpy as np\n",
    "import matplotlib.pyplot as plt\n",
    "import seaborn as sns\n",
    "import altair as alt \n",
    "\n",
    "import warnings\n",
    "warnings.filterwarnings('ignore')"
   ]
  },
  {
   "cell_type": "code",
   "execution_count": 916,
   "metadata": {
    "id": "zfn9NZxAk-A9",
    "outputId": "a078f598-292e-4bb5-a92c-e25500b30c85",
    "scrolled": true
   },
   "outputs": [
    {
     "data": {
      "text/html": [
       "<div>\n",
       "<style scoped>\n",
       "    .dataframe tbody tr th:only-of-type {\n",
       "        vertical-align: middle;\n",
       "    }\n",
       "\n",
       "    .dataframe tbody tr th {\n",
       "        vertical-align: top;\n",
       "    }\n",
       "\n",
       "    .dataframe thead th {\n",
       "        text-align: right;\n",
       "    }\n",
       "</style>\n",
       "<table border=\"1\" class=\"dataframe\">\n",
       "  <thead>\n",
       "    <tr style=\"text-align: right;\">\n",
       "      <th></th>\n",
       "      <th>dteday</th>\n",
       "      <th>hum</th>\n",
       "      <th>weathersit</th>\n",
       "      <th>holiday</th>\n",
       "      <th>season</th>\n",
       "      <th>atemp</th>\n",
       "      <th>temp</th>\n",
       "      <th>hr</th>\n",
       "      <th>casual</th>\n",
       "      <th>registered</th>\n",
       "      <th>cnt</th>\n",
       "    </tr>\n",
       "  </thead>\n",
       "  <tbody>\n",
       "    <tr>\n",
       "      <th>0</th>\n",
       "      <td>2011-12-09</td>\n",
       "      <td>0.62</td>\n",
       "      <td>1</td>\n",
       "      <td>0</td>\n",
       "      <td>4</td>\n",
       "      <td>0.3485</td>\n",
       "      <td>0.36</td>\n",
       "      <td>16</td>\n",
       "      <td>24</td>\n",
       "      <td>226</td>\n",
       "      <td>250</td>\n",
       "    </tr>\n",
       "    <tr>\n",
       "      <th>1</th>\n",
       "      <td>2012-06-17</td>\n",
       "      <td>0.64</td>\n",
       "      <td>1</td>\n",
       "      <td>0</td>\n",
       "      <td>2</td>\n",
       "      <td>0.5152</td>\n",
       "      <td>0.54</td>\n",
       "      <td>4</td>\n",
       "      <td>2</td>\n",
       "      <td>16</td>\n",
       "      <td>18</td>\n",
       "    </tr>\n",
       "    <tr>\n",
       "      <th>2</th>\n",
       "      <td>2011-06-15</td>\n",
       "      <td>0.53</td>\n",
       "      <td>1</td>\n",
       "      <td>0</td>\n",
       "      <td>2</td>\n",
       "      <td>0.6212</td>\n",
       "      <td>0.62</td>\n",
       "      <td>23</td>\n",
       "      <td>17</td>\n",
       "      <td>90</td>\n",
       "      <td>107</td>\n",
       "    </tr>\n",
       "    <tr>\n",
       "      <th>3</th>\n",
       "      <td>2012-03-31</td>\n",
       "      <td>0.87</td>\n",
       "      <td>2</td>\n",
       "      <td>0</td>\n",
       "      <td>2</td>\n",
       "      <td>0.3485</td>\n",
       "      <td>0.36</td>\n",
       "      <td>8</td>\n",
       "      <td>19</td>\n",
       "      <td>126</td>\n",
       "      <td>145</td>\n",
       "    </tr>\n",
       "    <tr>\n",
       "      <th>4</th>\n",
       "      <td>2012-07-31</td>\n",
       "      <td>0.55</td>\n",
       "      <td>1</td>\n",
       "      <td>0</td>\n",
       "      <td>3</td>\n",
       "      <td>0.6970</td>\n",
       "      <td>0.76</td>\n",
       "      <td>18</td>\n",
       "      <td>99</td>\n",
       "      <td>758</td>\n",
       "      <td>857</td>\n",
       "    </tr>\n",
       "    <tr>\n",
       "      <th>5</th>\n",
       "      <td>2012-10-01</td>\n",
       "      <td>0.72</td>\n",
       "      <td>1</td>\n",
       "      <td>0</td>\n",
       "      <td>4</td>\n",
       "      <td>0.4545</td>\n",
       "      <td>0.46</td>\n",
       "      <td>0</td>\n",
       "      <td>6</td>\n",
       "      <td>39</td>\n",
       "      <td>45</td>\n",
       "    </tr>\n",
       "    <tr>\n",
       "      <th>6</th>\n",
       "      <td>2012-08-28</td>\n",
       "      <td>0.54</td>\n",
       "      <td>1</td>\n",
       "      <td>0</td>\n",
       "      <td>3</td>\n",
       "      <td>0.6515</td>\n",
       "      <td>0.70</td>\n",
       "      <td>22</td>\n",
       "      <td>20</td>\n",
       "      <td>196</td>\n",
       "      <td>216</td>\n",
       "    </tr>\n",
       "    <tr>\n",
       "      <th>7</th>\n",
       "      <td>2012-01-01</td>\n",
       "      <td>0.93</td>\n",
       "      <td>1</td>\n",
       "      <td>0</td>\n",
       "      <td>1</td>\n",
       "      <td>0.2727</td>\n",
       "      <td>0.26</td>\n",
       "      <td>9</td>\n",
       "      <td>13</td>\n",
       "      <td>27</td>\n",
       "      <td>40</td>\n",
       "    </tr>\n",
       "    <tr>\n",
       "      <th>8</th>\n",
       "      <td>2011-10-13</td>\n",
       "      <td>1.00</td>\n",
       "      <td>2</td>\n",
       "      <td>0</td>\n",
       "      <td>4</td>\n",
       "      <td>0.5152</td>\n",
       "      <td>0.54</td>\n",
       "      <td>4</td>\n",
       "      <td>2</td>\n",
       "      <td>5</td>\n",
       "      <td>7</td>\n",
       "    </tr>\n",
       "    <tr>\n",
       "      <th>9</th>\n",
       "      <td>2012-06-09</td>\n",
       "      <td>0.24</td>\n",
       "      <td>1</td>\n",
       "      <td>0</td>\n",
       "      <td>2</td>\n",
       "      <td>0.6970</td>\n",
       "      <td>0.82</td>\n",
       "      <td>16</td>\n",
       "      <td>219</td>\n",
       "      <td>315</td>\n",
       "      <td>534</td>\n",
       "    </tr>\n",
       "  </tbody>\n",
       "</table>\n",
       "</div>"
      ],
      "text/plain": [
       "       dteday   hum  weathersit  holiday  season   atemp  temp  hr  casual  \\\n",
       "0  2011-12-09  0.62           1        0       4  0.3485  0.36  16      24   \n",
       "1  2012-06-17  0.64           1        0       2  0.5152  0.54   4       2   \n",
       "2  2011-06-15  0.53           1        0       2  0.6212  0.62  23      17   \n",
       "3  2012-03-31  0.87           2        0       2  0.3485  0.36   8      19   \n",
       "4  2012-07-31  0.55           1        0       3  0.6970  0.76  18      99   \n",
       "5  2012-10-01  0.72           1        0       4  0.4545  0.46   0       6   \n",
       "6  2012-08-28  0.54           1        0       3  0.6515  0.70  22      20   \n",
       "7  2012-01-01  0.93           1        0       1  0.2727  0.26   9      13   \n",
       "8  2011-10-13  1.00           2        0       4  0.5152  0.54   4       2   \n",
       "9  2012-06-09  0.24           1        0       2  0.6970  0.82  16     219   \n",
       "\n",
       "   registered  cnt  \n",
       "0         226  250  \n",
       "1          16   18  \n",
       "2          90  107  \n",
       "3         126  145  \n",
       "4         758  857  \n",
       "5          39   45  \n",
       "6         196  216  \n",
       "7          27   40  \n",
       "8           5    7  \n",
       "9         315  534  "
      ]
     },
     "execution_count": 916,
     "metadata": {},
     "output_type": "execute_result"
    }
   ],
   "source": [
    "# Load dataset\n",
    "df = pd.read_csv('..data/data_bike_sharing.csv')\n",
    "df.head(10)"
   ]
  },
  {
   "cell_type": "code",
   "execution_count": 917,
   "metadata": {
    "scrolled": true
   },
   "outputs": [
    {
     "name": "stdout",
     "output_type": "stream",
     "text": [
      "<class 'pandas.core.frame.DataFrame'>\n",
      "RangeIndex: 12165 entries, 0 to 12164\n",
      "Data columns (total 11 columns):\n",
      " #   Column      Non-Null Count  Dtype  \n",
      "---  ------      --------------  -----  \n",
      " 0   dteday      12165 non-null  object \n",
      " 1   hum         12165 non-null  float64\n",
      " 2   weathersit  12165 non-null  int64  \n",
      " 3   holiday     12165 non-null  int64  \n",
      " 4   season      12165 non-null  int64  \n",
      " 5   atemp       12165 non-null  float64\n",
      " 6   temp        12165 non-null  float64\n",
      " 7   hr          12165 non-null  int64  \n",
      " 8   casual      12165 non-null  int64  \n",
      " 9   registered  12165 non-null  int64  \n",
      " 10  cnt         12165 non-null  int64  \n",
      "dtypes: float64(3), int64(7), object(1)\n",
      "memory usage: 1.0+ MB\n"
     ]
    }
   ],
   "source": [
    "#ukuran data(shape)\n",
    "df.info()"
   ]
  },
  {
   "cell_type": "markdown",
   "metadata": {},
   "source": [
    "Dari info data diatas memiliki 12165 baris dengan 11 kolom."
   ]
  },
  {
   "cell_type": "markdown",
   "metadata": {
    "id": "L6JewKcak-A-"
   },
   "source": [
    "#### **Exploratory Data Analysis**"
   ]
  },
  {
   "cell_type": "markdown",
   "metadata": {
    "id": "ddvcLtH7k-A-"
   },
   "source": [
    "**Distribution of Bike Share Count of total**"
   ]
  },
  {
   "cell_type": "code",
   "execution_count": 918,
   "metadata": {
    "id": "j9neglkak-A_",
    "outputId": "5ae210ab-29fc-4c36-c4bd-7e9c026bb987"
   },
   "outputs": [
    {
     "data": {
      "text/plain": [
       "Text(0.5, 1.0, 'Count Distribution Plot')"
      ]
     },
     "execution_count": 918,
     "metadata": {},
     "output_type": "execute_result"
    },
    {
     "data": {
      "image/png": "[encoded data removed]",
      "text/plain": [
       "<Figure size 700x700 with 1 Axes>"
      ]
     },
     "metadata": {},
     "output_type": "display_data"
    }
   ],
   "source": [
    "# Plot distribusi fitur 'price'\n",
    "plt.figure(figsize=(7, 7))\n",
    "sns.distplot(df['cnt'])\n",
    "plt.title('Count Distribution Plot', size=15, weight='bold')"
   ]
  },
  {
   "cell_type": "markdown",
   "metadata": {
    "id": "s2RTEo8ik-A_"
   },
   "source": [
    "Berdasarkan plot distribusi count bike sharing di atas, terlihat bahwa terdapat 'right-skewed distribution'. Dengan kata lain, terdapat skewness positif pada fitur cnt ( jumlah pengguna sepeda keseluruhan baik casual dan register )."
   ]
  },
  {
   "cell_type": "markdown",
   "metadata": {},
   "source": [
    "### Count of Season"
   ]
  },
  {
   "cell_type": "code",
   "execution_count": 919,
   "metadata": {
    "scrolled": true
   },
   "outputs": [
    {
     "data": {
      "text/html": [
       "<div>\n",
       "<style scoped>\n",
       "    .dataframe tbody tr th:only-of-type {\n",
       "        vertical-align: middle;\n",
       "    }\n",
       "\n",
       "    .dataframe tbody tr th {\n",
       "        vertical-align: top;\n",
       "    }\n",
       "\n",
       "    .dataframe thead th {\n",
       "        text-align: right;\n",
       "    }\n",
       "</style>\n",
       "<table border=\"1\" class=\"dataframe\">\n",
       "  <thead>\n",
       "    <tr style=\"text-align: right;\">\n",
       "      <th></th>\n",
       "      <th>season</th>\n",
       "      <th>jumlah</th>\n",
       "    </tr>\n",
       "  </thead>\n",
       "  <tbody>\n",
       "    <tr>\n",
       "      <th>0</th>\n",
       "      <td>winter</td>\n",
       "      <td>334839</td>\n",
       "    </tr>\n",
       "    <tr>\n",
       "      <th>1</th>\n",
       "      <td>spring</td>\n",
       "      <td>639704</td>\n",
       "    </tr>\n",
       "    <tr>\n",
       "      <th>2</th>\n",
       "      <td>summer</td>\n",
       "      <td>742488</td>\n",
       "    </tr>\n",
       "    <tr>\n",
       "      <th>3</th>\n",
       "      <td>fall</td>\n",
       "      <td>585451</td>\n",
       "    </tr>\n",
       "  </tbody>\n",
       "</table>\n",
       "</div>"
      ],
      "text/plain": [
       "   season  jumlah\n",
       "0  winter  334839\n",
       "1  spring  639704\n",
       "2  summer  742488\n",
       "3    fall  585451"
      ]
     },
     "execution_count": 919,
     "metadata": {},
     "output_type": "execute_result"
    }
   ],
   "source": [
    "#mencari count season paling ramai pesepeda\n",
    "df_season = df.groupby(df['season']).agg({'cnt': 'sum'}).rename(columns={'index' : 'season', 'cnt': 'jumlah'}).reset_index()\n",
    "df_season['season'] = df_season['season'].replace({1: 'winter', 2 : 'spring', 3 : 'summer', 4 : 'fall'})\n",
    "df_season"
   ]
  },
  {
   "cell_type": "code",
   "execution_count": 920,
   "metadata": {},
   "outputs": [
    {
     "data": {
      "text/html": [
       "\n",
       "<style>\n",
       "  #altair-viz-4bb2e4edf73a4163ba86cdc76dc828d5.vega-embed {\n",
       "    width: 100%;\n",
       "    display: flex;\n",
       "  }\n",
       "\n",
       "  #altair-viz-4bb2e4edf73a4163ba86cdc76dc828d5.vega-embed details,\n",
       "  #altair-viz-4bb2e4edf73a4163ba86cdc76dc828d5.vega-embed details summary {\n",
       "    position: relative;\n",
       "  }\n",
       "</style>\n",
       "<div id=\"altair-viz-4bb2e4edf73a4163ba86cdc76dc828d5\"></div>\n",
       "<script type=\"text/javascript\">\n",
       "  var VEGA_DEBUG = (typeof VEGA_DEBUG == \"undefined\") ? {} : VEGA_DEBUG;\n",
       "  (function(spec, embedOpt){\n",
       "    let outputDiv = document.currentScript.previousElementSibling;\n",
       "    if (outputDiv.id !== \"altair-viz-4bb2e4edf73a4163ba86cdc76dc828d5\") {\n",
       "      outputDiv = document.getElementById(\"altair-viz-4bb2e4edf73a4163ba86cdc76dc828d5\");\n",
       "    }\n",
       "    const paths = {\n",
       "      \"vega\": \"https://cdn.jsdelivr.net/npm/vega@5?noext\",\n",
       "      \"vega-lib\": \"https://cdn.jsdelivr.net/npm/vega-lib?noext\",\n",
       "      \"vega-lite\": \"https://cdn.jsdelivr.net/npm/vega-lite@5.16.3?noext\",\n",
       "      \"vega-embed\": \"https://cdn.jsdelivr.net/npm/vega-embed@6?noext\",\n",
       "    };\n",
       "\n",
       "    function maybeLoadScript(lib, version) {\n",
       "      var key = `${lib.replace(\"-\", \"\")}_version`;\n",
       "      return (VEGA_DEBUG[key] == version) ?\n",
       "        Promise.resolve(paths[lib]) :\n",
       "        new Promise(function(resolve, reject) {\n",
       "          var s = document.createElement('script');\n",
       "          document.getElementsByTagName(\"head\")[0].appendChild(s);\n",
       "          s.async = true;\n",
       "          s.onload = () => {\n",
       "            VEGA_DEBUG[key] = version;\n",
       "            return resolve(paths[lib]);\n",
       "          };\n",
       "          s.onerror = () => reject(`Error loading script: ${paths[lib]}`);\n",
       "          s.src = paths[lib];\n",
       "        });\n",
       "    }\n",
       "\n",
       "    function showError(err) {\n",
       "      outputDiv.innerHTML = `<div class=\"error\" style=\"color:red;\">${err}</div>`;\n",
       "      throw err;\n",
       "    }\n",
       "\n",
       "    function displayChart(vegaEmbed) {\n",
       "      vegaEmbed(outputDiv, spec, embedOpt)\n",
       "        .catch(err => showError(`Javascript Error: ${err.message}<br>This usually means there's a typo in your chart specification. See the javascript console for the full traceback.`));\n",
       "    }\n",
       "\n",
       "    if(typeof define === \"function\" && define.amd) {\n",
       "      requirejs.config({paths});\n",
       "      require([\"vega-embed\"], displayChart, err => showError(`Error loading script: ${err.message}`));\n",
       "    } else {\n",
       "      maybeLoadScript(\"vega\", \"5\")\n",
       "        .then(() => maybeLoadScript(\"vega-lite\", \"5.16.3\"))\n",
       "        .then(() => maybeLoadScript(\"vega-embed\", \"6\"))\n",
       "        .catch(showError)\n",
       "        .then(() => displayChart(vegaEmbed));\n",
       "    }\n",
       "  })({\"config\": {\"view\": {\"continuousWidth\": 300, \"continuousHeight\": 300}}, \"layer\": [{\"mark\": {\"type\": \"bar\"}, \"encoding\": {\"color\": {\"field\": \"season\", \"type\": \"nominal\"}, \"x\": {\"axis\": {\"labelAngle\": 0}, \"field\": \"season\", \"sort\": \"-y\", \"title\": \"Musim\", \"type\": \"ordinal\"}, \"y\": {\"field\": \"jumlah\", \"title\": \"Jumlah Pesepeda\", \"type\": \"quantitative\"}}, \"title\": {\"text\": \"Musim Paling Diminati\", \"subtitle\": \"Berdasarkan jumlah pesepeda casual dan register\"}}, {\"mark\": {\"type\": \"text\", \"align\": \"center\", \"baseline\": \"middle\", \"dy\": -5}, \"encoding\": {\"color\": {\"field\": \"season\", \"type\": \"nominal\"}, \"text\": {\"field\": \"jumlah\", \"type\": \"quantitative\"}, \"x\": {\"axis\": {\"labelAngle\": 0}, \"field\": \"season\", \"sort\": \"-y\", \"title\": \"Musim\", \"type\": \"ordinal\"}, \"y\": {\"field\": \"jumlah\", \"title\": \"Jumlah Pesepeda\", \"type\": \"quantitative\"}}, \"title\": {\"text\": \"Musim Paling Diminati\", \"subtitle\": \"Berdasarkan jumlah pesepeda casual dan register\"}}], \"data\": {\"name\": \"data-8c42b335c7e1dd585b6c9feb2bea31d8\"}, \"height\": 400, \"width\": 600, \"$schema\": \"https://vega.github.io/schema/vega-lite/v5.16.3.json\", \"datasets\": {\"data-8c42b335c7e1dd585b6c9feb2bea31d8\": [{\"season\": \"winter\", \"jumlah\": 334839}, {\"season\": \"spring\", \"jumlah\": 639704}, {\"season\": \"summer\", \"jumlah\": 742488}, {\"season\": \"fall\", \"jumlah\": 585451}]}}, {\"mode\": \"vega-lite\"});\n",
       "</script>"
      ],
      "text/plain": [
       "alt.LayerChart(...)"
      ]
     },
     "execution_count": 920,
     "metadata": {},
     "output_type": "execute_result"
    }
   ],
   "source": [
    "# Membuat bar chart dengan Altair\n",
    "bar_chart = alt.Chart(df_season,title=alt.Title(\n",
    "       \"Musim Paling Diminati\",\n",
    "       subtitle=\"Berdasarkan jumlah pesepeda casual dan register\"\n",
    "   )).mark_bar().encode(\n",
    "    x=alt.X('season:O', title='Musim',sort='-y', axis=alt.Axis(labelAngle=0)),\n",
    "    y=alt.Y('jumlah:Q', title='Jumlah Pesepeda'),\n",
    "    color=alt.Color('season:N')\n",
    ").properties(\n",
    "    width=600,\n",
    "    height=400\n",
    ")\n",
    "\n",
    "# Menambahkan layer text untuk menampilkan jumlah value di setiap bar\n",
    "text = bar_chart.mark_text(\n",
    "    align='center',\n",
    "    baseline='middle',\n",
    "    dy=-5  # Penyesuaian posisi teks agar berada di atas bar\n",
    ").encode(\n",
    "    text='jumlah:Q'  # Menampilkan jumlah count di setiap bar\n",
    ")\n",
    "\n",
    "chart_with_text = (bar_chart + text)  # Menggabungkan chart bar dan text\n",
    "\n",
    "chart_with_text"
   ]
  },
  {
   "cell_type": "markdown",
   "metadata": {},
   "source": [
    "Dengan adanya visualisasi diatas inside yang kita dapat yaitu bahwasanya **para pesepeda lebih cenderung bersepeda pada musim summer hingga fall dan menurun pada saat winter.**\n",
    "\n",
    "faktor musim disini mempengaruhi para pesepeda untuk menggunakan layanan bike sharing ini."
   ]
  },
  {
   "cell_type": "markdown",
   "metadata": {},
   "source": [
    "### Count of holiday"
   ]
  },
  {
   "cell_type": "code",
   "execution_count": 921,
   "metadata": {
    "id": "fIVEvhojk-BA",
    "outputId": "bb738682-fb9b-4e6e-bc9b-289fb571585a",
    "scrolled": false
   },
   "outputs": [
    {
     "data": {
      "text/html": [
       "<div>\n",
       "<style scoped>\n",
       "    .dataframe tbody tr th:only-of-type {\n",
       "        vertical-align: middle;\n",
       "    }\n",
       "\n",
       "    .dataframe tbody tr th {\n",
       "        vertical-align: top;\n",
       "    }\n",
       "\n",
       "    .dataframe thead th {\n",
       "        text-align: right;\n",
       "    }\n",
       "</style>\n",
       "<table border=\"1\" class=\"dataframe\">\n",
       "  <thead>\n",
       "    <tr style=\"text-align: right;\">\n",
       "      <th></th>\n",
       "      <th>holiday</th>\n",
       "      <th>jumlah</th>\n",
       "    </tr>\n",
       "  </thead>\n",
       "  <tbody>\n",
       "    <tr>\n",
       "      <th>0</th>\n",
       "      <td>not holiday</td>\n",
       "      <td>2245297</td>\n",
       "    </tr>\n",
       "    <tr>\n",
       "      <th>1</th>\n",
       "      <td>holiday</td>\n",
       "      <td>57185</td>\n",
       "    </tr>\n",
       "  </tbody>\n",
       "</table>\n",
       "</div>"
      ],
      "text/plain": [
       "       holiday   jumlah\n",
       "0  not holiday  2245297\n",
       "1      holiday    57185"
      ]
     },
     "execution_count": 921,
     "metadata": {},
     "output_type": "execute_result"
    }
   ],
   "source": [
    "# Grouping holiday unutk melihat para pengguna sepeda disisi holiday\n",
    "df_holiday = df.groupby(['holiday']).agg({'cnt' : 'sum'}).rename(columns={'index' : 'holiday','day' : 'day', 'cnt' : 'jumlah'}).reset_index()\n",
    "df_holiday['holiday'] = df_holiday['holiday'].replace({0: 'not holiday', 1:'holiday'})\n",
    "df_holiday"
   ]
  },
  {
   "cell_type": "markdown",
   "metadata": {},
   "source": [
    "Degan adanya data diatas bisa kita ambil kesimpulan bahwa **rata-rata para pengguna pesepeda pada saat non holiday sebanyak 2245297 yang berbanding jauh dengan hari holiday sebanyak 57185 pesepeda.**\n",
    "\n",
    "pengertian dari data set ini holiday dan non holiday yaitu waktu libur yang mempertimbangkan weakends dan hari libur nasional pada negara amerika ini maka dari itu untuk membuktikan maka kita akan mengali lebih dalam pada colom jam serta hari."
   ]
  },
  {
   "cell_type": "markdown",
   "metadata": {},
   "source": [
    "### Count of Hours"
   ]
  },
  {
   "cell_type": "code",
   "execution_count": 922,
   "metadata": {},
   "outputs": [
    {
     "data": {
      "text/html": [
       "<div>\n",
       "<style scoped>\n",
       "    .dataframe tbody tr th:only-of-type {\n",
       "        vertical-align: middle;\n",
       "    }\n",
       "\n",
       "    .dataframe tbody tr th {\n",
       "        vertical-align: top;\n",
       "    }\n",
       "\n",
       "    .dataframe thead th {\n",
       "        text-align: right;\n",
       "    }\n",
       "</style>\n",
       "<table border=\"1\" class=\"dataframe\">\n",
       "  <thead>\n",
       "    <tr style=\"text-align: right;\">\n",
       "      <th></th>\n",
       "      <th>0</th>\n",
       "      <th>1</th>\n",
       "      <th>2</th>\n",
       "      <th>3</th>\n",
       "      <th>4</th>\n",
       "      <th>5</th>\n",
       "      <th>6</th>\n",
       "      <th>7</th>\n",
       "      <th>8</th>\n",
       "      <th>9</th>\n",
       "      <th>...</th>\n",
       "      <th>14</th>\n",
       "      <th>15</th>\n",
       "      <th>16</th>\n",
       "      <th>17</th>\n",
       "      <th>18</th>\n",
       "      <th>19</th>\n",
       "      <th>20</th>\n",
       "      <th>21</th>\n",
       "      <th>22</th>\n",
       "      <th>23</th>\n",
       "    </tr>\n",
       "  </thead>\n",
       "  <tbody>\n",
       "    <tr>\n",
       "      <th>hr</th>\n",
       "      <td>0</td>\n",
       "      <td>1</td>\n",
       "      <td>2</td>\n",
       "      <td>3</td>\n",
       "      <td>4</td>\n",
       "      <td>5</td>\n",
       "      <td>6</td>\n",
       "      <td>7</td>\n",
       "      <td>8</td>\n",
       "      <td>9</td>\n",
       "      <td>...</td>\n",
       "      <td>14</td>\n",
       "      <td>15</td>\n",
       "      <td>16</td>\n",
       "      <td>17</td>\n",
       "      <td>18</td>\n",
       "      <td>19</td>\n",
       "      <td>20</td>\n",
       "      <td>21</td>\n",
       "      <td>22</td>\n",
       "      <td>23</td>\n",
       "    </tr>\n",
       "    <tr>\n",
       "      <th>jumlah</th>\n",
       "      <td>28083</td>\n",
       "      <td>16367</td>\n",
       "      <td>11237</td>\n",
       "      <td>5479</td>\n",
       "      <td>3052</td>\n",
       "      <td>10593</td>\n",
       "      <td>38818</td>\n",
       "      <td>105676</td>\n",
       "      <td>188576</td>\n",
       "      <td>108286</td>\n",
       "      <td>...</td>\n",
       "      <td>123209</td>\n",
       "      <td>126154</td>\n",
       "      <td>157226</td>\n",
       "      <td>234861</td>\n",
       "      <td>213468</td>\n",
       "      <td>156731</td>\n",
       "      <td>118007</td>\n",
       "      <td>86003</td>\n",
       "      <td>67622</td>\n",
       "      <td>45918</td>\n",
       "    </tr>\n",
       "  </tbody>\n",
       "</table>\n",
       "<p>2 rows × 24 columns</p>\n",
       "</div>"
      ],
      "text/plain": [
       "           0      1      2     3     4      5      6       7       8       9   \\\n",
       "hr          0      1      2     3     4      5      6       7       8       9   \n",
       "jumlah  28083  16367  11237  5479  3052  10593  38818  105676  188576  108286   \n",
       "\n",
       "        ...      14      15      16      17      18      19      20     21  \\\n",
       "hr      ...      14      15      16      17      18      19      20     21   \n",
       "jumlah  ...  123209  126154  157226  234861  213468  156731  118007  86003   \n",
       "\n",
       "           22     23  \n",
       "hr         22     23  \n",
       "jumlah  67622  45918  \n",
       "\n",
       "[2 rows x 24 columns]"
      ]
     },
     "execution_count": 922,
     "metadata": {},
     "output_type": "execute_result"
    }
   ],
   "source": [
    "df_jam = df.groupby(['hr']).agg({'cnt':'sum'}).rename(columns={'index' : 'hr' , 'cnt' : 'jumlah'}).reset_index()\n",
    "df_jam.T"
   ]
  },
  {
   "cell_type": "code",
   "execution_count": 923,
   "metadata": {
    "scrolled": true
   },
   "outputs": [
    {
     "data": {
      "text/html": [
       "\n",
       "<style>\n",
       "  #altair-viz-def45b4d38f24d9694ad361642cbc8dd.vega-embed {\n",
       "    width: 100%;\n",
       "    display: flex;\n",
       "  }\n",
       "\n",
       "  #altair-viz-def45b4d38f24d9694ad361642cbc8dd.vega-embed details,\n",
       "  #altair-viz-def45b4d38f24d9694ad361642cbc8dd.vega-embed details summary {\n",
       "    position: relative;\n",
       "  }\n",
       "</style>\n",
       "<div id=\"altair-viz-def45b4d38f24d9694ad361642cbc8dd\"></div>\n",
       "<script type=\"text/javascript\">\n",
       "  var VEGA_DEBUG = (typeof VEGA_DEBUG == \"undefined\") ? {} : VEGA_DEBUG;\n",
       "  (function(spec, embedOpt){\n",
       "    let outputDiv = document.currentScript.previousElementSibling;\n",
       "    if (outputDiv.id !== \"altair-viz-def45b4d38f24d9694ad361642cbc8dd\") {\n",
       "      outputDiv = document.getElementById(\"altair-viz-def45b4d38f24d9694ad361642cbc8dd\");\n",
       "    }\n",
       "    const paths = {\n",
       "      \"vega\": \"https://cdn.jsdelivr.net/npm/vega@5?noext\",\n",
       "      \"vega-lib\": \"https://cdn.jsdelivr.net/npm/vega-lib?noext\",\n",
       "      \"vega-lite\": \"https://cdn.jsdelivr.net/npm/vega-lite@5.16.3?noext\",\n",
       "      \"vega-embed\": \"https://cdn.jsdelivr.net/npm/vega-embed@6?noext\",\n",
       "    };\n",
       "\n",
       "    function maybeLoadScript(lib, version) {\n",
       "      var key = `${lib.replace(\"-\", \"\")}_version`;\n",
       "      return (VEGA_DEBUG[key] == version) ?\n",
       "        Promise.resolve(paths[lib]) :\n",
       "        new Promise(function(resolve, reject) {\n",
       "          var s = document.createElement('script');\n",
       "          document.getElementsByTagName(\"head\")[0].appendChild(s);\n",
       "          s.async = true;\n",
       "          s.onload = () => {\n",
       "            VEGA_DEBUG[key] = version;\n",
       "            return resolve(paths[lib]);\n",
       "          };\n",
       "          s.onerror = () => reject(`Error loading script: ${paths[lib]}`);\n",
       "          s.src = paths[lib];\n",
       "        });\n",
       "    }\n",
       "\n",
       "    function showError(err) {\n",
       "      outputDiv.innerHTML = `<div class=\"error\" style=\"color:red;\">${err}</div>`;\n",
       "      throw err;\n",
       "    }\n",
       "\n",
       "    function displayChart(vegaEmbed) {\n",
       "      vegaEmbed(outputDiv, spec, embedOpt)\n",
       "        .catch(err => showError(`Javascript Error: ${err.message}<br>This usually means there's a typo in your chart specification. See the javascript console for the full traceback.`));\n",
       "    }\n",
       "\n",
       "    if(typeof define === \"function\" && define.amd) {\n",
       "      requirejs.config({paths});\n",
       "      require([\"vega-embed\"], displayChart, err => showError(`Error loading script: ${err.message}`));\n",
       "    } else {\n",
       "      maybeLoadScript(\"vega\", \"5\")\n",
       "        .then(() => maybeLoadScript(\"vega-lite\", \"5.16.3\"))\n",
       "        .then(() => maybeLoadScript(\"vega-embed\", \"6\"))\n",
       "        .catch(showError)\n",
       "        .then(() => displayChart(vegaEmbed));\n",
       "    }\n",
       "  })({\"config\": {\"view\": {\"continuousWidth\": 300, \"continuousHeight\": 300}}, \"layer\": [{\"mark\": {\"type\": \"line\", \"point\": true}, \"encoding\": {\"color\": {\"value\": \"green\"}, \"x\": {\"axis\": {\"labelAngle\": 0}, \"field\": \"hr\", \"sort\": \"x\", \"title\": \"Jam\", \"type\": \"ordinal\"}, \"y\": {\"field\": \"jumlah\", \"title\": \"Jumlah Pesepeda\", \"type\": \"quantitative\"}}, \"title\": {\"text\": \"Tren Pesepeda Perjam\", \"subtitle\": \"Berdasarkan jumlah pesepeda casual dan register\"}}, {\"mark\": {\"type\": \"text\", \"align\": \"center\", \"baseline\": \"top\", \"color\": \"black\", \"dx\": 5, \"dy\": -13, \"fontSize\": 10}, \"encoding\": {\"color\": {\"value\": \"green\"}, \"text\": {\"field\": \"jumlah\", \"type\": \"quantitative\"}, \"x\": {\"axis\": {\"labelAngle\": 0}, \"field\": \"hr\", \"sort\": \"x\", \"title\": \"Jam\", \"type\": \"ordinal\"}, \"y\": {\"field\": \"jumlah\", \"title\": \"Jumlah Pesepeda\", \"type\": \"quantitative\"}}, \"title\": {\"text\": \"Tren Pesepeda Perjam\", \"subtitle\": \"Berdasarkan jumlah pesepeda casual dan register\"}}], \"data\": {\"name\": \"data-ba80a36171fe76aafe80ea42b5dda64c\"}, \"height\": 400, \"width\": 800, \"$schema\": \"https://vega.github.io/schema/vega-lite/v5.16.3.json\", \"datasets\": {\"data-ba80a36171fe76aafe80ea42b5dda64c\": [{\"hr\": 0, \"jumlah\": 28083}, {\"hr\": 1, \"jumlah\": 16367}, {\"hr\": 2, \"jumlah\": 11237}, {\"hr\": 3, \"jumlah\": 5479}, {\"hr\": 4, \"jumlah\": 3052}, {\"hr\": 5, \"jumlah\": 10593}, {\"hr\": 6, \"jumlah\": 38818}, {\"hr\": 7, \"jumlah\": 105676}, {\"hr\": 8, \"jumlah\": 188576}, {\"hr\": 9, \"jumlah\": 108286}, {\"hr\": 10, \"jumlah\": 89929}, {\"hr\": 11, \"jumlah\": 106631}, {\"hr\": 12, \"jumlah\": 128878}, {\"hr\": 13, \"jumlah\": 131678}, {\"hr\": 14, \"jumlah\": 123209}, {\"hr\": 15, \"jumlah\": 126154}, {\"hr\": 16, \"jumlah\": 157226}, {\"hr\": 17, \"jumlah\": 234861}, {\"hr\": 18, \"jumlah\": 213468}, {\"hr\": 19, \"jumlah\": 156731}, {\"hr\": 20, \"jumlah\": 118007}, {\"hr\": 21, \"jumlah\": 86003}, {\"hr\": 22, \"jumlah\": 67622}, {\"hr\": 23, \"jumlah\": 45918}]}}, {\"mode\": \"vega-lite\"});\n",
       "</script>"
      ],
      "text/plain": [
       "alt.LayerChart(...)"
      ]
     },
     "execution_count": 923,
     "metadata": {},
     "output_type": "execute_result"
    }
   ],
   "source": [
    "# Membuat line chart dengan Altair\n",
    "line_chart = alt.Chart(df_jam, title=alt.Title(\n",
    "       \"Tren Pesepeda Perjam\",\n",
    "       subtitle=\"Berdasarkan jumlah pesepeda casual dan register\"\n",
    "   )).mark_line(point=True).encode(\n",
    "    x=alt.X('hr:O', title='Jam', sort='x', axis=alt.Axis(labelAngle=0)),\n",
    "    y=alt.Y('jumlah:Q', title='Jumlah Pesepeda'),\n",
    "    color=alt.value('green')\n",
    ").properties(\n",
    "    width=800,\n",
    "    height=400\n",
    ")\n",
    "\n",
    "# Menambahkan layer text untuk menampilkan jumlah value di setiap titik line chart\n",
    "text = line_chart.mark_text(\n",
    "    align='center',\n",
    "    baseline='top',\n",
    "    dx=5,  # Penyesuaian posisi teks agar berada di sebelah kanan titik\n",
    "    dy=-13,\n",
    "    color='black',  # Warna teks\n",
    "    fontSize=10  # Ukuran font teks\n",
    ").encode(\n",
    "    text='jumlah:Q'  # Menampilkan jumlah count di setiap titik\n",
    ")\n",
    "\n",
    "chart_with_text = (line_chart + text)  # Menggabungkan chart line dan text\n",
    "\n",
    "chart_with_text"
   ]
  },
  {
   "cell_type": "markdown",
   "metadata": {},
   "source": [
    "Dari hasil visualisasi diatas insade yang kita dapat yaitu **tren pada jam 8 pagi menunjukan kenaikan kemudian turun dengan signifikan kemudian pada jam 17 mengalami kenaikan kembali yang signifikan**.\n",
    "\n",
    "Disini kita dapat pola bahwasanya pengguna bike sharing menggunakan sepeda pada jam kerja dan jam pulang kerja."
   ]
  },
  {
   "cell_type": "markdown",
   "metadata": {},
   "source": [
    "### Count of weaks"
   ]
  },
  {
   "cell_type": "code",
   "execution_count": 924,
   "metadata": {},
   "outputs": [],
   "source": [
    "df['dteday'] = pd.to_datetime(df['dteday'])\n",
    "# Menambahkan kolom 'day_of_week' berdasarkan 'dteday'\n",
    "df['week'] = df['dteday'].dt.day_name()\n",
    "\n",
    "# Mengelompokkan data berdasarkan 'day_of_week' dan 'hr'\n",
    "df_per_minggu = df.groupby(['week', 'hr']).agg({'cnt': 'sum'}).reset_index()\n",
    "df_per_minggu = df_per_minggu.rename(columns={'cnt': 'jumlah'})\n",
    "\n",
    "# Mengurutkan hari dalam seminggu\n",
    "days_order = ['Monday', 'Tuesday', 'Wednesday', 'Thursday', 'Friday', 'Saturday', 'Sunday']\n",
    "df_per_minggu['week'] = pd.Categorical(df_per_minggu['week'], categories=days_order, ordered=True)\n",
    "df_per_minggu = df_per_minggu.sort_values(['week', 'hr'])"
   ]
  },
  {
   "cell_type": "markdown",
   "metadata": {},
   "source": [
    "Untuk melihat lebih dalam lagi dikarenakan pada kolom holiday mengumpulan hari weakends dan hari libur nasional maka saya akan menggali lebih dalam pada kolom dteday yang mengsepesifikan kita ambil perminggunya selama dua tahun guna melihat tren para pengguna menggunakan bike sharing pada hari apa saja."
   ]
  },
  {
   "cell_type": "code",
   "execution_count": 925,
   "metadata": {
    "scrolled": true
   },
   "outputs": [
    {
     "data": {
      "text/html": [
       "\n",
       "<style>\n",
       "  #altair-viz-2aab7b086b9042f79b7fb9ef3225ad82.vega-embed {\n",
       "    width: 100%;\n",
       "    display: flex;\n",
       "  }\n",
       "\n",
       "  #altair-viz-2aab7b086b9042f79b7fb9ef3225ad82.vega-embed details,\n",
       "  #altair-viz-2aab7b086b9042f79b7fb9ef3225ad82.vega-embed details summary {\n",
       "    position: relative;\n",
       "  }\n",
       "</style>\n",
       "<div id=\"altair-viz-2aab7b086b9042f79b7fb9ef3225ad82\"></div>\n",
       "<script type=\"text/javascript\">\n",
       "  var VEGA_DEBUG = (typeof VEGA_DEBUG == \"undefined\") ? {} : VEGA_DEBUG;\n",
       "  (function(spec, embedOpt){\n",
       "    let outputDiv = document.currentScript.previousElementSibling;\n",
       "    if (outputDiv.id !== \"altair-viz-2aab7b086b9042f79b7fb9ef3225ad82\") {\n",
       "      outputDiv = document.getElementById(\"altair-viz-2aab7b086b9042f79b7fb9ef3225ad82\");\n",
       "    }\n",
       "    const paths = {\n",
       "      \"vega\": \"https://cdn.jsdelivr.net/npm/vega@5?noext\",\n",
       "      \"vega-lib\": \"https://cdn.jsdelivr.net/npm/vega-lib?noext\",\n",
       "      \"vega-lite\": \"https://cdn.jsdelivr.net/npm/vega-lite@5.16.3?noext\",\n",
       "      \"vega-embed\": \"https://cdn.jsdelivr.net/npm/vega-embed@6?noext\",\n",
       "    };\n",
       "\n",
       "    function maybeLoadScript(lib, version) {\n",
       "      var key = `${lib.replace(\"-\", \"\")}_version`;\n",
       "      return (VEGA_DEBUG[key] == version) ?\n",
       "        Promise.resolve(paths[lib]) :\n",
       "        new Promise(function(resolve, reject) {\n",
       "          var s = document.createElement('script');\n",
       "          document.getElementsByTagName(\"head\")[0].appendChild(s);\n",
       "          s.async = true;\n",
       "          s.onload = () => {\n",
       "            VEGA_DEBUG[key] = version;\n",
       "            return resolve(paths[lib]);\n",
       "          };\n",
       "          s.onerror = () => reject(`Error loading script: ${paths[lib]}`);\n",
       "          s.src = paths[lib];\n",
       "        });\n",
       "    }\n",
       "\n",
       "    function showError(err) {\n",
       "      outputDiv.innerHTML = `<div class=\"error\" style=\"color:red;\">${err}</div>`;\n",
       "      throw err;\n",
       "    }\n",
       "\n",
       "    function displayChart(vegaEmbed) {\n",
       "      vegaEmbed(outputDiv, spec, embedOpt)\n",
       "        .catch(err => showError(`Javascript Error: ${err.message}<br>This usually means there's a typo in your chart specification. See the javascript console for the full traceback.`));\n",
       "    }\n",
       "\n",
       "    if(typeof define === \"function\" && define.amd) {\n",
       "      requirejs.config({paths});\n",
       "      require([\"vega-embed\"], displayChart, err => showError(`Error loading script: ${err.message}`));\n",
       "    } else {\n",
       "      maybeLoadScript(\"vega\", \"5\")\n",
       "        .then(() => maybeLoadScript(\"vega-lite\", \"5.16.3\"))\n",
       "        .then(() => maybeLoadScript(\"vega-embed\", \"6\"))\n",
       "        .catch(showError)\n",
       "        .then(() => displayChart(vegaEmbed));\n",
       "    }\n",
       "  })({\"config\": {\"view\": {\"continuousWidth\": 300, \"continuousHeight\": 300}}, \"data\": {\"name\": \"data-bb5157f195d86ff75da7887dc7e5e236\"}, \"mark\": {\"type\": \"line\", \"point\": true}, \"encoding\": {\"color\": {\"field\": \"week\", \"legend\": {\"title\": \"Hari dalam Minggu\"}, \"type\": \"nominal\"}, \"tooltip\": [{\"field\": \"week\", \"type\": \"nominal\"}, {\"field\": \"hr\", \"type\": \"ordinal\"}, {\"field\": \"jumlah\", \"type\": \"quantitative\"}], \"x\": {\"axis\": {\"labelAngle\": 0}, \"field\": \"hr\", \"title\": \"Jam\", \"type\": \"ordinal\"}, \"y\": {\"field\": \"jumlah\", \"title\": \"Jumlah Pesepeda\", \"type\": \"quantitative\"}}, \"height\": 400, \"title\": {\"text\": \"Jumlah Pesepeda Per Jam dalam Satu Minggu\", \"subtitle\": \"Berdasarkan keseluruhan data pengguna register dan casual\"}, \"width\": 800, \"$schema\": \"https://vega.github.io/schema/vega-lite/v5.16.3.json\", \"datasets\": {\"data-bb5157f195d86ff75da7887dc7e5e236\": [{\"week\": \"Monday\", \"hr\": 0, \"jumlah\": 2668}, {\"week\": \"Monday\", \"hr\": 1, \"jumlah\": 1145}, {\"week\": \"Monday\", \"hr\": 2, \"jumlah\": 700}, {\"week\": \"Monday\", \"hr\": 3, \"jumlah\": 331}, {\"week\": \"Monday\", \"hr\": 4, \"jumlah\": 404}, {\"week\": \"Monday\", \"hr\": 5, \"jumlah\": 1603}, {\"week\": \"Monday\", \"hr\": 6, \"jumlah\": 5723}, {\"week\": \"Monday\", \"hr\": 7, \"jumlah\": 16613}, {\"week\": \"Monday\", \"hr\": 8, \"jumlah\": 31097}, {\"week\": \"Monday\", \"hr\": 9, \"jumlah\": 15147}, {\"week\": \"Monday\", \"hr\": 10, \"jumlah\": 10300}, {\"week\": \"Monday\", \"hr\": 11, \"jumlah\": 12128}, {\"week\": \"Monday\", \"hr\": 12, \"jumlah\": 14247}, {\"week\": \"Monday\", \"hr\": 13, \"jumlah\": 14493}, {\"week\": \"Monday\", \"hr\": 14, \"jumlah\": 13072}, {\"week\": \"Monday\", \"hr\": 15, \"jumlah\": 15468}, {\"week\": \"Monday\", \"hr\": 16, \"jumlah\": 18251}, {\"week\": \"Monday\", \"hr\": 17, \"jumlah\": 34593}, {\"week\": \"Monday\", \"hr\": 18, \"jumlah\": 38592}, {\"week\": \"Monday\", \"hr\": 19, \"jumlah\": 26965}, {\"week\": \"Monday\", \"hr\": 20, \"jumlah\": 19562}, {\"week\": \"Monday\", \"hr\": 21, \"jumlah\": 11453}, {\"week\": \"Monday\", \"hr\": 22, \"jumlah\": 8969}, {\"week\": \"Monday\", \"hr\": 23, \"jumlah\": 4826}, {\"week\": \"Tuesday\", \"hr\": 0, \"jumlah\": 1902}, {\"week\": \"Tuesday\", \"hr\": 1, \"jumlah\": 925}, {\"week\": \"Tuesday\", \"hr\": 2, \"jumlah\": 521}, {\"week\": \"Tuesday\", \"hr\": 3, \"jumlah\": 270}, {\"week\": \"Tuesday\", \"hr\": 4, \"jumlah\": 392}, {\"week\": \"Tuesday\", \"hr\": 5, \"jumlah\": 1830}, {\"week\": \"Tuesday\", \"hr\": 6, \"jumlah\": 7455}, {\"week\": \"Tuesday\", \"hr\": 7, \"jumlah\": 21031}, {\"week\": \"Tuesday\", \"hr\": 8, \"jumlah\": 31923}, {\"week\": \"Tuesday\", \"hr\": 9, \"jumlah\": 17728}, {\"week\": \"Tuesday\", \"hr\": 10, \"jumlah\": 9016}, {\"week\": \"Tuesday\", \"hr\": 11, \"jumlah\": 10299}, {\"week\": \"Tuesday\", \"hr\": 12, \"jumlah\": 12031}, {\"week\": \"Tuesday\", \"hr\": 13, \"jumlah\": 14388}, {\"week\": \"Tuesday\", \"hr\": 14, \"jumlah\": 12893}, {\"week\": \"Tuesday\", \"hr\": 15, \"jumlah\": 14981}, {\"week\": \"Tuesday\", \"hr\": 16, \"jumlah\": 17687}, {\"week\": \"Tuesday\", \"hr\": 17, \"jumlah\": 40614}, {\"week\": \"Tuesday\", \"hr\": 18, \"jumlah\": 37480}, {\"week\": \"Tuesday\", \"hr\": 19, \"jumlah\": 25850}, {\"week\": \"Tuesday\", \"hr\": 20, \"jumlah\": 16533}, {\"week\": \"Tuesday\", \"hr\": 21, \"jumlah\": 13856}, {\"week\": \"Tuesday\", \"hr\": 22, \"jumlah\": 9007}, {\"week\": \"Tuesday\", \"hr\": 23, \"jumlah\": 5723}, {\"week\": \"Wednesday\", \"hr\": 0, \"jumlah\": 2582}, {\"week\": \"Wednesday\", \"hr\": 1, \"jumlah\": 1146}, {\"week\": \"Wednesday\", \"hr\": 2, \"jumlah\": 621}, {\"week\": \"Wednesday\", \"hr\": 3, \"jumlah\": 360}, {\"week\": \"Wednesday\", \"hr\": 4, \"jumlah\": 341}, {\"week\": \"Wednesday\", \"hr\": 5, \"jumlah\": 2091}, {\"week\": \"Wednesday\", \"hr\": 6, \"jumlah\": 7829}, {\"week\": \"Wednesday\", \"hr\": 7, \"jumlah\": 22263}, {\"week\": \"Wednesday\", \"hr\": 8, \"jumlah\": 37062}, {\"week\": \"Wednesday\", \"hr\": 9, \"jumlah\": 15475}, {\"week\": \"Wednesday\", \"hr\": 10, \"jumlah\": 10963}, {\"week\": \"Wednesday\", \"hr\": 11, \"jumlah\": 11486}, {\"week\": \"Wednesday\", \"hr\": 12, \"jumlah\": 14878}, {\"week\": \"Wednesday\", \"hr\": 13, \"jumlah\": 13765}, {\"week\": \"Wednesday\", \"hr\": 14, \"jumlah\": 12274}, {\"week\": \"Wednesday\", \"hr\": 15, \"jumlah\": 12841}, {\"week\": \"Wednesday\", \"hr\": 16, \"jumlah\": 20746}, {\"week\": \"Wednesday\", \"hr\": 17, \"jumlah\": 39708}, {\"week\": \"Wednesday\", \"hr\": 18, \"jumlah\": 34092}, {\"week\": \"Wednesday\", \"hr\": 19, \"jumlah\": 23822}, {\"week\": \"Wednesday\", \"hr\": 20, \"jumlah\": 18639}, {\"week\": \"Wednesday\", \"hr\": 21, \"jumlah\": 15073}, {\"week\": \"Wednesday\", \"hr\": 22, \"jumlah\": 10880}, {\"week\": \"Wednesday\", \"hr\": 23, \"jumlah\": 6977}, {\"week\": \"Thursday\", \"hr\": 0, \"jumlah\": 3020}, {\"week\": \"Thursday\", \"hr\": 1, \"jumlah\": 1190}, {\"week\": \"Thursday\", \"hr\": 2, \"jumlah\": 694}, {\"week\": \"Thursday\", \"hr\": 3, \"jumlah\": 332}, {\"week\": \"Thursday\", \"hr\": 4, \"jumlah\": 392}, {\"week\": \"Thursday\", \"hr\": 5, \"jumlah\": 1952}, {\"week\": \"Thursday\", \"hr\": 6, \"jumlah\": 7844}, {\"week\": \"Thursday\", \"hr\": 7, \"jumlah\": 20129}, {\"week\": \"Thursday\", \"hr\": 8, \"jumlah\": 41099}, {\"week\": \"Thursday\", \"hr\": 9, \"jumlah\": 18152}, {\"week\": \"Thursday\", \"hr\": 10, \"jumlah\": 9860}, {\"week\": \"Thursday\", \"hr\": 11, \"jumlah\": 11823}, {\"week\": \"Thursday\", \"hr\": 12, \"jumlah\": 14271}, {\"week\": \"Thursday\", \"hr\": 13, \"jumlah\": 14590}, {\"week\": \"Thursday\", \"hr\": 14, \"jumlah\": 11447}, {\"week\": \"Thursday\", \"hr\": 15, \"jumlah\": 12900}, {\"week\": \"Thursday\", \"hr\": 16, \"jumlah\": 21853}, {\"week\": \"Thursday\", \"hr\": 17, \"jumlah\": 33699}, {\"week\": \"Thursday\", \"hr\": 18, \"jumlah\": 35810}, {\"week\": \"Thursday\", \"hr\": 19, \"jumlah\": 26294}, {\"week\": \"Thursday\", \"hr\": 20, \"jumlah\": 20344}, {\"week\": \"Thursday\", \"hr\": 21, \"jumlah\": 13309}, {\"week\": \"Thursday\", \"hr\": 22, \"jumlah\": 11727}, {\"week\": \"Thursday\", \"hr\": 23, \"jumlah\": 7846}, {\"week\": \"Friday\", \"hr\": 0, \"jumlah\": 4308}, {\"week\": \"Friday\", \"hr\": 1, \"jumlah\": 1787}, {\"week\": \"Friday\", \"hr\": 2, \"jumlah\": 908}, {\"week\": \"Friday\", \"hr\": 3, \"jumlah\": 537}, {\"week\": \"Friday\", \"hr\": 4, \"jumlah\": 394}, {\"week\": \"Friday\", \"hr\": 5, \"jumlah\": 1864}, {\"week\": \"Friday\", \"hr\": 6, \"jumlah\": 7422}, {\"week\": \"Friday\", \"hr\": 7, \"jumlah\": 19640}, {\"week\": \"Friday\", \"hr\": 8, \"jumlah\": 33807}, {\"week\": \"Friday\", \"hr\": 9, \"jumlah\": 16728}, {\"week\": \"Friday\", \"hr\": 10, \"jumlah\": 11642}, {\"week\": \"Friday\", \"hr\": 11, \"jumlah\": 12192}, {\"week\": \"Friday\", \"hr\": 12, \"jumlah\": 16478}, {\"week\": \"Friday\", \"hr\": 13, \"jumlah\": 18089}, {\"week\": \"Friday\", \"hr\": 14, \"jumlah\": 17795}, {\"week\": \"Friday\", \"hr\": 15, \"jumlah\": 17293}, {\"week\": \"Friday\", \"hr\": 16, \"jumlah\": 25371}, {\"week\": \"Friday\", \"hr\": 17, \"jumlah\": 36352}, {\"week\": \"Friday\", \"hr\": 18, \"jumlah\": 26378}, {\"week\": \"Friday\", \"hr\": 19, \"jumlah\": 20380}, {\"week\": \"Friday\", \"hr\": 20, \"jumlah\": 16719}, {\"week\": \"Friday\", \"hr\": 21, \"jumlah\": 12435}, {\"week\": \"Friday\", \"hr\": 22, \"jumlah\": 10366}, {\"week\": \"Friday\", \"hr\": 23, \"jumlah\": 7862}, {\"week\": \"Saturday\", \"hr\": 0, \"jumlah\": 7175}, {\"week\": \"Saturday\", \"hr\": 1, \"jumlah\": 4824}, {\"week\": \"Saturday\", \"hr\": 2, \"jumlah\": 3718}, {\"week\": \"Saturday\", \"hr\": 3, \"jumlah\": 1706}, {\"week\": \"Saturday\", \"hr\": 4, \"jumlah\": 519}, {\"week\": \"Saturday\", \"hr\": 5, \"jumlah\": 616}, {\"week\": \"Saturday\", \"hr\": 6, \"jumlah\": 1613}, {\"week\": \"Saturday\", \"hr\": 7, \"jumlah\": 3526}, {\"week\": \"Saturday\", \"hr\": 8, \"jumlah\": 7249}, {\"week\": \"Saturday\", \"hr\": 9, \"jumlah\": 14090}, {\"week\": \"Saturday\", \"hr\": 10, \"jumlah\": 18562}, {\"week\": \"Saturday\", \"hr\": 11, \"jumlah\": 24289}, {\"week\": \"Saturday\", \"hr\": 12, \"jumlah\": 29479}, {\"week\": \"Saturday\", \"hr\": 13, \"jumlah\": 29805}, {\"week\": \"Saturday\", \"hr\": 14, \"jumlah\": 29324}, {\"week\": \"Saturday\", \"hr\": 15, \"jumlah\": 27399}, {\"week\": \"Saturday\", \"hr\": 16, \"jumlah\": 28327}, {\"week\": \"Saturday\", \"hr\": 17, \"jumlah\": 24023}, {\"week\": \"Saturday\", \"hr\": 18, \"jumlah\": 20139}, {\"week\": \"Saturday\", \"hr\": 19, \"jumlah\": 18175}, {\"week\": \"Saturday\", \"hr\": 20, \"jumlah\": 13495}, {\"week\": \"Saturday\", \"hr\": 21, \"jumlah\": 11662}, {\"week\": \"Saturday\", \"hr\": 22, \"jumlah\": 9443}, {\"week\": \"Saturday\", \"hr\": 23, \"jumlah\": 7985}, {\"week\": \"Sunday\", \"hr\": 0, \"jumlah\": 6428}, {\"week\": \"Sunday\", \"hr\": 1, \"jumlah\": 5350}, {\"week\": \"Sunday\", \"hr\": 2, \"jumlah\": 4075}, {\"week\": \"Sunday\", \"hr\": 3, \"jumlah\": 1943}, {\"week\": \"Sunday\", \"hr\": 4, \"jumlah\": 610}, {\"week\": \"Sunday\", \"hr\": 5, \"jumlah\": 637}, {\"week\": \"Sunday\", \"hr\": 6, \"jumlah\": 932}, {\"week\": \"Sunday\", \"hr\": 7, \"jumlah\": 2474}, {\"week\": \"Sunday\", \"hr\": 8, \"jumlah\": 6339}, {\"week\": \"Sunday\", \"hr\": 9, \"jumlah\": 10966}, {\"week\": \"Sunday\", \"hr\": 10, \"jumlah\": 19586}, {\"week\": \"Sunday\", \"hr\": 11, \"jumlah\": 24414}, {\"week\": \"Sunday\", \"hr\": 12, \"jumlah\": 27494}, {\"week\": \"Sunday\", \"hr\": 13, \"jumlah\": 26548}, {\"week\": \"Sunday\", \"hr\": 14, \"jumlah\": 26404}, {\"week\": \"Sunday\", \"hr\": 15, \"jumlah\": 25272}, {\"week\": \"Sunday\", \"hr\": 16, \"jumlah\": 24991}, {\"week\": \"Sunday\", \"hr\": 17, \"jumlah\": 25872}, {\"week\": \"Sunday\", \"hr\": 18, \"jumlah\": 20977}, {\"week\": \"Sunday\", \"hr\": 19, \"jumlah\": 15245}, {\"week\": \"Sunday\", \"hr\": 20, \"jumlah\": 12715}, {\"week\": \"Sunday\", \"hr\": 21, \"jumlah\": 8215}, {\"week\": \"Sunday\", \"hr\": 22, \"jumlah\": 7230}, {\"week\": \"Sunday\", \"hr\": 23, \"jumlah\": 4699}]}}, {\"mode\": \"vega-lite\"});\n",
       "</script>"
      ],
      "text/plain": [
       "alt.Chart(...)"
      ]
     },
     "execution_count": 925,
     "metadata": {},
     "output_type": "execute_result"
    }
   ],
   "source": [
    "# Membuat line chart dengan Altair untuk menampilkan jumlah pesepeda per jam dalam satu minggu\n",
    "line_chart = alt.Chart(df_per_minggu).mark_line(point=True).encode(\n",
    "    x=alt.X('hr:O', title='Jam', axis=alt.Axis(labelAngle=0)),\n",
    "    y=alt.Y('jumlah:Q', title='Jumlah Pesepeda'),\n",
    "    color=alt.Color('week:N', legend=alt.Legend(title=\"Hari dalam Minggu\")),\n",
    "    tooltip=['week:N', 'hr:O', 'jumlah:Q']\n",
    ").properties(\n",
    "    title=alt.TitleParams(\n",
    "        text=\"Jumlah Pesepeda Per Jam dalam Satu Minggu\",\n",
    "        subtitle=\"Berdasarkan keseluruhan data pengguna register dan casual\",\n",
    "    ),\n",
    "    width=800,\n",
    "    height=400\n",
    ")\n",
    "\n",
    "line_chart"
   ]
  },
  {
   "cell_type": "markdown",
   "metadata": {},
   "source": [
    "Bisa kita lihat seksama bahwasanya para pengguna bike sharing ini lebih cenderung menggunakan layanan sepede pada waktu weakdays dan menurun pada saat weeakends dan polanya berbeda dengan hari weakdays yang memuncak pada jam 12 siang.\n",
    "\n",
    "Hasil insade yang didapat setelah melakukan keseluruhan visualisasi dapat kita simpulkan sebagai berikut :\n",
    "1. Para pesepeda lebih cenderung menggunakan sepeda pada musim summer hingga fall dan menurun pada saat winter\n",
    "2. Banyaknya para pengguna pesepeda pada saat non holiday sebanyak 2245297 yang berbanding jauh dengan hari holiday sebanyak 57185 pesepeda.\n",
    "3. Kemudian kenbiasaan para pengguna sepeda juga ramai pada jam 8 pagi hingga jam 17 sore pada hari weakdays sedangkan untuk weeakends memuncak pada jam 12 siang, yang dimana bisa kita simpulan bahwasanya pengguna bike sharing ini mayoritas para pekerja dan sekolah."
   ]
  },
  {
   "cell_type": "markdown",
   "metadata": {
    "id": "uMkbNG7Mk-BD"
   },
   "source": [
    "### **Data Preprocessing**"
   ]
  },
  {
   "cell_type": "markdown",
   "metadata": {
    "id": "2Ydgnx9Rk-BD"
   },
   "source": [
    "Pada tahap ini, kita akan melakukan cleaning pada data yang nantinya data yang sudah dibersihkan akan kita gunakan untuk proses analisis selanjutnya. Beberapa hal yang perlu dilakukan adalah:\n",
    "- Drop fitur yang tidak memiliki relevansi terhadap permasalahan yang sedang dihadapi.\n",
    "- Melakukan treatment terhadap missing value jika ada. Bisa dengan cara men-drop fiturnya jika memang tidak dibutuhkan atau bisa juga dengan mengimputasi dengan nilai yang paling masuk akal berdasarkan kasusnya."
   ]
  },
  {
   "cell_type": "markdown",
   "metadata": {
    "id": "HlCXDRPwk-BE"
   },
   "source": [
    "Untuk proses data preprocessing dan feature engineering, kita akan menggunakan dataframe hasil duplikasi dari dataframe yang sebelumnya digunakan."
   ]
  },
  {
   "cell_type": "code",
   "execution_count": 926,
   "metadata": {
    "id": "0DxTlTa9k-BE"
   },
   "outputs": [],
   "source": [
    "# Membuat duplikasi dataframe\n",
    "df_model = df.copy()"
   ]
  },
  {
   "cell_type": "code",
   "execution_count": 927,
   "metadata": {},
   "outputs": [
    {
     "data": {
      "text/html": [
       "<div>\n",
       "<style scoped>\n",
       "    .dataframe tbody tr th:only-of-type {\n",
       "        vertical-align: middle;\n",
       "    }\n",
       "\n",
       "    .dataframe tbody tr th {\n",
       "        vertical-align: top;\n",
       "    }\n",
       "\n",
       "    .dataframe thead th {\n",
       "        text-align: right;\n",
       "    }\n",
       "</style>\n",
       "<table border=\"1\" class=\"dataframe\">\n",
       "  <thead>\n",
       "    <tr style=\"text-align: right;\">\n",
       "      <th></th>\n",
       "      <th>dteday</th>\n",
       "      <th>hum</th>\n",
       "      <th>weathersit</th>\n",
       "      <th>holiday</th>\n",
       "      <th>season</th>\n",
       "      <th>atemp</th>\n",
       "      <th>temp</th>\n",
       "      <th>hr</th>\n",
       "      <th>casual</th>\n",
       "      <th>registered</th>\n",
       "      <th>cnt</th>\n",
       "      <th>week</th>\n",
       "    </tr>\n",
       "  </thead>\n",
       "  <tbody>\n",
       "    <tr>\n",
       "      <th>0</th>\n",
       "      <td>2011-12-09</td>\n",
       "      <td>0.62</td>\n",
       "      <td>1</td>\n",
       "      <td>0</td>\n",
       "      <td>4</td>\n",
       "      <td>0.3485</td>\n",
       "      <td>0.36</td>\n",
       "      <td>16</td>\n",
       "      <td>24</td>\n",
       "      <td>226</td>\n",
       "      <td>250</td>\n",
       "      <td>Friday</td>\n",
       "    </tr>\n",
       "    <tr>\n",
       "      <th>1</th>\n",
       "      <td>2012-06-17</td>\n",
       "      <td>0.64</td>\n",
       "      <td>1</td>\n",
       "      <td>0</td>\n",
       "      <td>2</td>\n",
       "      <td>0.5152</td>\n",
       "      <td>0.54</td>\n",
       "      <td>4</td>\n",
       "      <td>2</td>\n",
       "      <td>16</td>\n",
       "      <td>18</td>\n",
       "      <td>Sunday</td>\n",
       "    </tr>\n",
       "    <tr>\n",
       "      <th>2</th>\n",
       "      <td>2011-06-15</td>\n",
       "      <td>0.53</td>\n",
       "      <td>1</td>\n",
       "      <td>0</td>\n",
       "      <td>2</td>\n",
       "      <td>0.6212</td>\n",
       "      <td>0.62</td>\n",
       "      <td>23</td>\n",
       "      <td>17</td>\n",
       "      <td>90</td>\n",
       "      <td>107</td>\n",
       "      <td>Wednesday</td>\n",
       "    </tr>\n",
       "    <tr>\n",
       "      <th>3</th>\n",
       "      <td>2012-03-31</td>\n",
       "      <td>0.87</td>\n",
       "      <td>2</td>\n",
       "      <td>0</td>\n",
       "      <td>2</td>\n",
       "      <td>0.3485</td>\n",
       "      <td>0.36</td>\n",
       "      <td>8</td>\n",
       "      <td>19</td>\n",
       "      <td>126</td>\n",
       "      <td>145</td>\n",
       "      <td>Saturday</td>\n",
       "    </tr>\n",
       "    <tr>\n",
       "      <th>4</th>\n",
       "      <td>2012-07-31</td>\n",
       "      <td>0.55</td>\n",
       "      <td>1</td>\n",
       "      <td>0</td>\n",
       "      <td>3</td>\n",
       "      <td>0.6970</td>\n",
       "      <td>0.76</td>\n",
       "      <td>18</td>\n",
       "      <td>99</td>\n",
       "      <td>758</td>\n",
       "      <td>857</td>\n",
       "      <td>Tuesday</td>\n",
       "    </tr>\n",
       "  </tbody>\n",
       "</table>\n",
       "</div>"
      ],
      "text/plain": [
       "      dteday   hum  weathersit  holiday  season   atemp  temp  hr  casual  \\\n",
       "0 2011-12-09  0.62           1        0       4  0.3485  0.36  16      24   \n",
       "1 2012-06-17  0.64           1        0       2  0.5152  0.54   4       2   \n",
       "2 2011-06-15  0.53           1        0       2  0.6212  0.62  23      17   \n",
       "3 2012-03-31  0.87           2        0       2  0.3485  0.36   8      19   \n",
       "4 2012-07-31  0.55           1        0       3  0.6970  0.76  18      99   \n",
       "\n",
       "   registered  cnt       week  \n",
       "0         226  250     Friday  \n",
       "1          16   18     Sunday  \n",
       "2          90  107  Wednesday  \n",
       "3         126  145   Saturday  \n",
       "4         758  857    Tuesday  "
      ]
     },
     "metadata": {},
     "output_type": "display_data"
    },
    {
     "data": {
      "text/html": [
       "<div>\n",
       "<style scoped>\n",
       "    .dataframe tbody tr th:only-of-type {\n",
       "        vertical-align: middle;\n",
       "    }\n",
       "\n",
       "    .dataframe tbody tr th {\n",
       "        vertical-align: top;\n",
       "    }\n",
       "\n",
       "    .dataframe thead th {\n",
       "        text-align: right;\n",
       "    }\n",
       "</style>\n",
       "<table border=\"1\" class=\"dataframe\">\n",
       "  <thead>\n",
       "    <tr style=\"text-align: right;\">\n",
       "      <th></th>\n",
       "      <th>dteday</th>\n",
       "      <th>hum</th>\n",
       "      <th>weathersit</th>\n",
       "      <th>holiday</th>\n",
       "      <th>season</th>\n",
       "      <th>atemp</th>\n",
       "      <th>temp</th>\n",
       "      <th>hr</th>\n",
       "      <th>casual</th>\n",
       "      <th>registered</th>\n",
       "      <th>cnt</th>\n",
       "      <th>week</th>\n",
       "    </tr>\n",
       "  </thead>\n",
       "  <tbody>\n",
       "    <tr>\n",
       "      <th>12160</th>\n",
       "      <td>2012-01-25</td>\n",
       "      <td>0.75</td>\n",
       "      <td>1</td>\n",
       "      <td>0</td>\n",
       "      <td>1</td>\n",
       "      <td>0.2273</td>\n",
       "      <td>0.24</td>\n",
       "      <td>7</td>\n",
       "      <td>14</td>\n",
       "      <td>243</td>\n",
       "      <td>257</td>\n",
       "      <td>Wednesday</td>\n",
       "    </tr>\n",
       "    <tr>\n",
       "      <th>12161</th>\n",
       "      <td>2012-07-06</td>\n",
       "      <td>0.62</td>\n",
       "      <td>1</td>\n",
       "      <td>0</td>\n",
       "      <td>3</td>\n",
       "      <td>0.7424</td>\n",
       "      <td>0.78</td>\n",
       "      <td>0</td>\n",
       "      <td>39</td>\n",
       "      <td>63</td>\n",
       "      <td>102</td>\n",
       "      <td>Friday</td>\n",
       "    </tr>\n",
       "    <tr>\n",
       "      <th>12162</th>\n",
       "      <td>2012-02-20</td>\n",
       "      <td>0.60</td>\n",
       "      <td>2</td>\n",
       "      <td>1</td>\n",
       "      <td>1</td>\n",
       "      <td>0.2121</td>\n",
       "      <td>0.24</td>\n",
       "      <td>5</td>\n",
       "      <td>0</td>\n",
       "      <td>6</td>\n",
       "      <td>6</td>\n",
       "      <td>Monday</td>\n",
       "    </tr>\n",
       "    <tr>\n",
       "      <th>12163</th>\n",
       "      <td>2012-03-31</td>\n",
       "      <td>0.77</td>\n",
       "      <td>2</td>\n",
       "      <td>0</td>\n",
       "      <td>2</td>\n",
       "      <td>0.4242</td>\n",
       "      <td>0.42</td>\n",
       "      <td>2</td>\n",
       "      <td>14</td>\n",
       "      <td>55</td>\n",
       "      <td>69</td>\n",
       "      <td>Saturday</td>\n",
       "    </tr>\n",
       "    <tr>\n",
       "      <th>12164</th>\n",
       "      <td>2011-04-28</td>\n",
       "      <td>0.47</td>\n",
       "      <td>1</td>\n",
       "      <td>0</td>\n",
       "      <td>2</td>\n",
       "      <td>0.6212</td>\n",
       "      <td>0.64</td>\n",
       "      <td>18</td>\n",
       "      <td>44</td>\n",
       "      <td>486</td>\n",
       "      <td>530</td>\n",
       "      <td>Thursday</td>\n",
       "    </tr>\n",
       "  </tbody>\n",
       "</table>\n",
       "</div>"
      ],
      "text/plain": [
       "          dteday   hum  weathersit  holiday  season   atemp  temp  hr  casual  \\\n",
       "12160 2012-01-25  0.75           1        0       1  0.2273  0.24   7      14   \n",
       "12161 2012-07-06  0.62           1        0       3  0.7424  0.78   0      39   \n",
       "12162 2012-02-20  0.60           2        1       1  0.2121  0.24   5       0   \n",
       "12163 2012-03-31  0.77           2        0       2  0.4242  0.42   2      14   \n",
       "12164 2011-04-28  0.47           1        0       2  0.6212  0.64  18      44   \n",
       "\n",
       "       registered  cnt       week  \n",
       "12160         243  257  Wednesday  \n",
       "12161          63  102     Friday  \n",
       "12162           6    6     Monday  \n",
       "12163          55   69   Saturday  \n",
       "12164         486  530   Thursday  "
      ]
     },
     "metadata": {},
     "output_type": "display_data"
    }
   ],
   "source": [
    "display(df_model.head(), df_model.tail())"
   ]
  },
  {
   "cell_type": "code",
   "execution_count": 928,
   "metadata": {
    "id": "GW1aFx4sk-BE",
    "outputId": "3f9a5b36-1431-4b9f-c796-2746bb0282c7"
   },
   "outputs": [
    {
     "data": {
      "text/html": [
       "<div>\n",
       "<style scoped>\n",
       "    .dataframe tbody tr th:only-of-type {\n",
       "        vertical-align: middle;\n",
       "    }\n",
       "\n",
       "    .dataframe tbody tr th {\n",
       "        vertical-align: top;\n",
       "    }\n",
       "\n",
       "    .dataframe thead th {\n",
       "        text-align: right;\n",
       "    }\n",
       "</style>\n",
       "<table border=\"1\" class=\"dataframe\">\n",
       "  <thead>\n",
       "    <tr style=\"text-align: right;\">\n",
       "      <th></th>\n",
       "      <th>dataFeatures</th>\n",
       "      <th>dataType</th>\n",
       "      <th>null</th>\n",
       "      <th>nullPct</th>\n",
       "      <th>unique</th>\n",
       "      <th>uniqueSample</th>\n",
       "    </tr>\n",
       "  </thead>\n",
       "  <tbody>\n",
       "    <tr>\n",
       "      <th>0</th>\n",
       "      <td>dteday</td>\n",
       "      <td>datetime64[ns]</td>\n",
       "      <td>0</td>\n",
       "      <td>0.0</td>\n",
       "      <td>731</td>\n",
       "      <td>[2012-04-02T00:00:00.000000000, 2011-08-12T00:...</td>\n",
       "    </tr>\n",
       "    <tr>\n",
       "      <th>1</th>\n",
       "      <td>hum</td>\n",
       "      <td>float64</td>\n",
       "      <td>0</td>\n",
       "      <td>0.0</td>\n",
       "      <td>89</td>\n",
       "      <td>[0.54, 0.88]</td>\n",
       "    </tr>\n",
       "    <tr>\n",
       "      <th>2</th>\n",
       "      <td>weathersit</td>\n",
       "      <td>int64</td>\n",
       "      <td>0</td>\n",
       "      <td>0.0</td>\n",
       "      <td>4</td>\n",
       "      <td>[2, 1]</td>\n",
       "    </tr>\n",
       "    <tr>\n",
       "      <th>3</th>\n",
       "      <td>holiday</td>\n",
       "      <td>int64</td>\n",
       "      <td>0</td>\n",
       "      <td>0.0</td>\n",
       "      <td>2</td>\n",
       "      <td>[0, 1]</td>\n",
       "    </tr>\n",
       "    <tr>\n",
       "      <th>4</th>\n",
       "      <td>season</td>\n",
       "      <td>int64</td>\n",
       "      <td>0</td>\n",
       "      <td>0.0</td>\n",
       "      <td>4</td>\n",
       "      <td>[4, 2]</td>\n",
       "    </tr>\n",
       "    <tr>\n",
       "      <th>5</th>\n",
       "      <td>atemp</td>\n",
       "      <td>float64</td>\n",
       "      <td>0</td>\n",
       "      <td>0.0</td>\n",
       "      <td>65</td>\n",
       "      <td>[0.1364, 0.8636]</td>\n",
       "    </tr>\n",
       "    <tr>\n",
       "      <th>6</th>\n",
       "      <td>temp</td>\n",
       "      <td>float64</td>\n",
       "      <td>0</td>\n",
       "      <td>0.0</td>\n",
       "      <td>50</td>\n",
       "      <td>[0.52, 0.36]</td>\n",
       "    </tr>\n",
       "    <tr>\n",
       "      <th>7</th>\n",
       "      <td>hr</td>\n",
       "      <td>int64</td>\n",
       "      <td>0</td>\n",
       "      <td>0.0</td>\n",
       "      <td>24</td>\n",
       "      <td>[3, 19]</td>\n",
       "    </tr>\n",
       "    <tr>\n",
       "      <th>8</th>\n",
       "      <td>casual</td>\n",
       "      <td>int64</td>\n",
       "      <td>0</td>\n",
       "      <td>0.0</td>\n",
       "      <td>305</td>\n",
       "      <td>[163, 131]</td>\n",
       "    </tr>\n",
       "    <tr>\n",
       "      <th>9</th>\n",
       "      <td>registered</td>\n",
       "      <td>int64</td>\n",
       "      <td>0</td>\n",
       "      <td>0.0</td>\n",
       "      <td>742</td>\n",
       "      <td>[66, 444]</td>\n",
       "    </tr>\n",
       "    <tr>\n",
       "      <th>10</th>\n",
       "      <td>cnt</td>\n",
       "      <td>int64</td>\n",
       "      <td>0</td>\n",
       "      <td>0.0</td>\n",
       "      <td>830</td>\n",
       "      <td>[654, 588]</td>\n",
       "    </tr>\n",
       "    <tr>\n",
       "      <th>11</th>\n",
       "      <td>week</td>\n",
       "      <td>object</td>\n",
       "      <td>0</td>\n",
       "      <td>0.0</td>\n",
       "      <td>7</td>\n",
       "      <td>[Thursday, Friday]</td>\n",
       "    </tr>\n",
       "  </tbody>\n",
       "</table>\n",
       "</div>"
      ],
      "text/plain": [
       "   dataFeatures        dataType  null  nullPct  unique  \\\n",
       "0        dteday  datetime64[ns]     0      0.0     731   \n",
       "1           hum         float64     0      0.0      89   \n",
       "2    weathersit           int64     0      0.0       4   \n",
       "3       holiday           int64     0      0.0       2   \n",
       "4        season           int64     0      0.0       4   \n",
       "5         atemp         float64     0      0.0      65   \n",
       "6          temp         float64     0      0.0      50   \n",
       "7            hr           int64     0      0.0      24   \n",
       "8        casual           int64     0      0.0     305   \n",
       "9    registered           int64     0      0.0     742   \n",
       "10          cnt           int64     0      0.0     830   \n",
       "11         week          object     0      0.0       7   \n",
       "\n",
       "                                         uniqueSample  \n",
       "0   [2012-04-02T00:00:00.000000000, 2011-08-12T00:...  \n",
       "1                                        [0.54, 0.88]  \n",
       "2                                              [2, 1]  \n",
       "3                                              [0, 1]  \n",
       "4                                              [4, 2]  \n",
       "5                                    [0.1364, 0.8636]  \n",
       "6                                        [0.52, 0.36]  \n",
       "7                                             [3, 19]  \n",
       "8                                          [163, 131]  \n",
       "9                                           [66, 444]  \n",
       "10                                         [654, 588]  \n",
       "11                                 [Thursday, Friday]  "
      ]
     },
     "execution_count": 928,
     "metadata": {},
     "output_type": "execute_result"
    }
   ],
   "source": [
    "# Cek info lebih detail untuk setiap fitur\n",
    "listItem = []\n",
    "\n",
    "for col in df_model.columns:\n",
    "    listItem.append([col, df_model[col].dtype, df_model[col].isna().sum(), round((df_model[col].isna().sum()/len(df_model[col]))*100, 2),\n",
    "                    df_model[col].nunique(), list(df_model[col].drop_duplicates().sample(2).values)]);\n",
    "\n",
    "df_model_desc = pd.DataFrame(columns=['dataFeatures', 'dataType', 'null', 'nullPct', 'unique', 'uniqueSample'],\n",
    "                     data=listItem)\n",
    "df_model_desc"
   ]
  },
  {
   "cell_type": "markdown",
   "metadata": {
    "id": "mOWpDVLsk-BF"
   },
   "source": [
    "Dari info dataset di atas, tidak terdapat data yang kosong pada beberapa fitur atau kolom."
   ]
  },
  {
   "cell_type": "code",
   "execution_count": 929,
   "metadata": {
    "id": "96SLbQ7Dk-BF",
    "outputId": "ee074d94-3865-4c5d-9605-9b20fbbe254a"
   },
   "outputs": [
    {
     "data": {
      "image/png": "[encoded data removed]",
      "text/plain": [
       "<Figure size 640x480 with 1 Axes>"
      ]
     },
     "metadata": {},
     "output_type": "display_data"
    }
   ],
   "source": [
    "# Missing value heatmap\n",
    "sns.heatmap(df_model.isnull(), cbar=False);"
   ]
  },
  {
   "cell_type": "markdown",
   "metadata": {
    "id": "V-7E4I1hk-BF"
   },
   "source": [
    "Bisa kita lihat bahwasanya data yang kita kelola tidak memiliki missing value diantara fitur tersebut, maka saya akan melanjutkan proses selanjutnya."
   ]
  },
  {
   "cell_type": "markdown",
   "metadata": {
    "id": "jf1ZyDA7k-BG"
   },
   "source": [
    "Kita juga dapat mengetahui bahwa tidak ada data yang duplikat pada dataset dengan melihat jumlah data unik dari setiap fitur , di mana jumlah data uniknya sama dengan jumlah keseluruhan data. Oleh karena itu, dataset ini tidak memiliki data yang duplikat. Untuk memastikannya, kita bisa cek dengan menggunakan function duplicated()."
   ]
  },
  {
   "cell_type": "code",
   "execution_count": 930,
   "metadata": {
    "id": "EzQD2rY1k-BG",
    "outputId": "124e7437-9466-4873-e4b7-0c7953964fe6"
   },
   "outputs": [
    {
     "data": {
      "text/plain": [
       "0"
      ]
     },
     "execution_count": 930,
     "metadata": {},
     "output_type": "execute_result"
    }
   ],
   "source": [
    "# Cek data duplikat\n",
    "df_model.duplicated().sum()"
   ]
  },
  {
   "cell_type": "markdown",
   "metadata": {
    "id": "o3e883YJk-BG"
   },
   "source": [
    "**Drop Columns**"
   ]
  },
  {
   "cell_type": "markdown",
   "metadata": {
    "id": "EhGtSm_Ak-BG"
   },
   "source": [
    "Tentu perlu ada pertimbangan sebelum melakukan drop pada kolom atau fitur. Sebagai pertimbangan, pada tahap awal ini kita bisa menggunakan domain knowledge untuk memutuskan kira-kira fitur mana saja yang dirasa tidak memiliki relevansi.\n",
    "- Jika ditinjau berdasar domain knowledge dan kebutuhan pemodelan ada beberapa fitur yang tidak relevan dengan permasalahan seperti, fitur 'dteday', 'register', 'casual', dan 'day_of_week' tidak diperlukan lagi karena dteday sudah saya pecah menjadi per minggu, sedangkan fitur register dan casual tidak dibutuhkan karena sudah diwakili oleh fitur cnt."
   ]
  },
  {
   "cell_type": "code",
   "execution_count": 931,
   "metadata": {
    "id": "KvKkPbylk-BG"
   },
   "outputs": [],
   "source": [
    "# Drop beberapa kolom yang tidak diperlukan\n",
    "df_model.drop(['dteday', 'registered', 'casual',], axis=1, inplace=True)"
   ]
  },
  {
   "cell_type": "code",
   "execution_count": 932,
   "metadata": {
    "id": "cf9465Pfk-BG",
    "outputId": "bdfab448-1210-4a4e-b072-bf6498d067f1"
   },
   "outputs": [
    {
     "name": "stdout",
     "output_type": "stream",
     "text": [
      "<class 'pandas.core.frame.DataFrame'>\n",
      "RangeIndex: 12165 entries, 0 to 12164\n",
      "Data columns (total 9 columns):\n",
      " #   Column      Non-Null Count  Dtype  \n",
      "---  ------      --------------  -----  \n",
      " 0   hum         12165 non-null  float64\n",
      " 1   weathersit  12165 non-null  int64  \n",
      " 2   holiday     12165 non-null  int64  \n",
      " 3   season      12165 non-null  int64  \n",
      " 4   atemp       12165 non-null  float64\n",
      " 5   temp        12165 non-null  float64\n",
      " 6   hr          12165 non-null  int64  \n",
      " 7   cnt         12165 non-null  int64  \n",
      " 8   week        12165 non-null  object \n",
      "dtypes: float64(3), int64(5), object(1)\n",
      "memory usage: 855.5+ KB\n"
     ]
    }
   ],
   "source": [
    "# Cek info dataset\n",
    "df_model.info()"
   ]
  },
  {
   "cell_type": "markdown",
   "metadata": {
    "id": "GiviA8h-k-BH"
   },
   "source": [
    "Sekarang kolom 'dteday', 'registered' 'hum' dan 'casual' sudah tidak ada.\n"
   ]
  },
  {
   "cell_type": "markdown",
   "metadata": {
    "id": "l-JkW3Unk-BH"
   },
   "source": [
    "**Missing Value**"
   ]
  },
  {
   "cell_type": "code",
   "execution_count": 933,
   "metadata": {
    "id": "QKQc626ck-BH",
    "outputId": "469f27fc-c331-40d4-8a2b-e07885a6116e"
   },
   "outputs": [
    {
     "data": {
      "text/plain": [
       "hum           0\n",
       "weathersit    0\n",
       "holiday       0\n",
       "season        0\n",
       "atemp         0\n",
       "temp          0\n",
       "hr            0\n",
       "cnt           0\n",
       "week          0\n",
       "dtype: int64"
      ]
     },
     "execution_count": 933,
     "metadata": {},
     "output_type": "execute_result"
    }
   ],
   "source": [
    "# Cek nilai missing value\n",
    "df_model.isnull().sum()"
   ]
  },
  {
   "cell_type": "markdown",
   "metadata": {
    "id": "twU9l-Gtk-BH"
   },
   "source": [
    "lagi-lagi setelah melakukan drop fitur yang tidak diperlukan alhasil data yang saya ingin gunakan tidak mengandung missing value dengan bukti diatas."
   ]
  },
  {
   "cell_type": "code",
   "execution_count": 934,
   "metadata": {},
   "outputs": [],
   "source": [
    "# Merubah tipe data day yang object menjadi int\n",
    "day_to_int = {\n",
    "    'Sunday': 0,\n",
    "    'Monday': 1,\n",
    "    'Tuesday': 2,\n",
    "    'Wednesday': 3,\n",
    "    'Thursday': 4,\n",
    "    'Friday': 5,\n",
    "    'Saturday': 6\n",
    "}\n",
    "\n",
    "# Mengonversi kolom 'day' ke tipe int menggunakan mapping\n",
    "df_model['week'] = df_model['week'].replace(day_to_int)"
   ]
  },
  {
   "cell_type": "code",
   "execution_count": 935,
   "metadata": {
    "id": "URQmI7nik-BJ",
    "outputId": "f4de1b19-ab5e-4828-df82-1bee23ae25f3"
   },
   "outputs": [
    {
     "data": {
      "text/html": [
       "<div>\n",
       "<style scoped>\n",
       "    .dataframe tbody tr th:only-of-type {\n",
       "        vertical-align: middle;\n",
       "    }\n",
       "\n",
       "    .dataframe tbody tr th {\n",
       "        vertical-align: top;\n",
       "    }\n",
       "\n",
       "    .dataframe thead th {\n",
       "        text-align: right;\n",
       "    }\n",
       "</style>\n",
       "<table border=\"1\" class=\"dataframe\">\n",
       "  <thead>\n",
       "    <tr style=\"text-align: right;\">\n",
       "      <th></th>\n",
       "      <th>hum</th>\n",
       "      <th>weathersit</th>\n",
       "      <th>holiday</th>\n",
       "      <th>season</th>\n",
       "      <th>atemp</th>\n",
       "      <th>temp</th>\n",
       "      <th>hr</th>\n",
       "      <th>cnt</th>\n",
       "      <th>week</th>\n",
       "    </tr>\n",
       "  </thead>\n",
       "  <tbody>\n",
       "    <tr>\n",
       "      <th>count</th>\n",
       "      <td>12165.000000</td>\n",
       "      <td>12165.000000</td>\n",
       "      <td>12165.000000</td>\n",
       "      <td>12165.000000</td>\n",
       "      <td>12165.000000</td>\n",
       "      <td>12165.000000</td>\n",
       "      <td>12165.000000</td>\n",
       "      <td>12165.000000</td>\n",
       "      <td>12165.000000</td>\n",
       "    </tr>\n",
       "    <tr>\n",
       "      <th>mean</th>\n",
       "      <td>0.625451</td>\n",
       "      <td>1.416934</td>\n",
       "      <td>0.029758</td>\n",
       "      <td>2.488615</td>\n",
       "      <td>0.476996</td>\n",
       "      <td>0.498185</td>\n",
       "      <td>11.519770</td>\n",
       "      <td>189.271023</td>\n",
       "      <td>3.013810</td>\n",
       "    </tr>\n",
       "    <tr>\n",
       "      <th>std</th>\n",
       "      <td>0.192102</td>\n",
       "      <td>0.635937</td>\n",
       "      <td>0.169925</td>\n",
       "      <td>1.106157</td>\n",
       "      <td>0.171857</td>\n",
       "      <td>0.192492</td>\n",
       "      <td>6.931872</td>\n",
       "      <td>181.223903</td>\n",
       "      <td>1.997731</td>\n",
       "    </tr>\n",
       "    <tr>\n",
       "      <th>min</th>\n",
       "      <td>0.000000</td>\n",
       "      <td>1.000000</td>\n",
       "      <td>0.000000</td>\n",
       "      <td>1.000000</td>\n",
       "      <td>0.000000</td>\n",
       "      <td>0.020000</td>\n",
       "      <td>0.000000</td>\n",
       "      <td>1.000000</td>\n",
       "      <td>0.000000</td>\n",
       "    </tr>\n",
       "    <tr>\n",
       "      <th>25%</th>\n",
       "      <td>0.470000</td>\n",
       "      <td>1.000000</td>\n",
       "      <td>0.000000</td>\n",
       "      <td>2.000000</td>\n",
       "      <td>0.333300</td>\n",
       "      <td>0.340000</td>\n",
       "      <td>6.000000</td>\n",
       "      <td>40.000000</td>\n",
       "      <td>1.000000</td>\n",
       "    </tr>\n",
       "    <tr>\n",
       "      <th>50%</th>\n",
       "      <td>0.620000</td>\n",
       "      <td>1.000000</td>\n",
       "      <td>0.000000</td>\n",
       "      <td>2.000000</td>\n",
       "      <td>0.484800</td>\n",
       "      <td>0.500000</td>\n",
       "      <td>12.000000</td>\n",
       "      <td>142.000000</td>\n",
       "      <td>3.000000</td>\n",
       "    </tr>\n",
       "    <tr>\n",
       "      <th>75%</th>\n",
       "      <td>0.780000</td>\n",
       "      <td>2.000000</td>\n",
       "      <td>0.000000</td>\n",
       "      <td>3.000000</td>\n",
       "      <td>0.621200</td>\n",
       "      <td>0.660000</td>\n",
       "      <td>18.000000</td>\n",
       "      <td>282.000000</td>\n",
       "      <td>5.000000</td>\n",
       "    </tr>\n",
       "    <tr>\n",
       "      <th>max</th>\n",
       "      <td>1.000000</td>\n",
       "      <td>4.000000</td>\n",
       "      <td>1.000000</td>\n",
       "      <td>4.000000</td>\n",
       "      <td>1.000000</td>\n",
       "      <td>1.000000</td>\n",
       "      <td>23.000000</td>\n",
       "      <td>970.000000</td>\n",
       "      <td>6.000000</td>\n",
       "    </tr>\n",
       "  </tbody>\n",
       "</table>\n",
       "</div>"
      ],
      "text/plain": [
       "                hum    weathersit       holiday        season         atemp  \\\n",
       "count  12165.000000  12165.000000  12165.000000  12165.000000  12165.000000   \n",
       "mean       0.625451      1.416934      0.029758      2.488615      0.476996   \n",
       "std        0.192102      0.635937      0.169925      1.106157      0.171857   \n",
       "min        0.000000      1.000000      0.000000      1.000000      0.000000   \n",
       "25%        0.470000      1.000000      0.000000      2.000000      0.333300   \n",
       "50%        0.620000      1.000000      0.000000      2.000000      0.484800   \n",
       "75%        0.780000      2.000000      0.000000      3.000000      0.621200   \n",
       "max        1.000000      4.000000      1.000000      4.000000      1.000000   \n",
       "\n",
       "               temp            hr           cnt          week  \n",
       "count  12165.000000  12165.000000  12165.000000  12165.000000  \n",
       "mean       0.498185     11.519770    189.271023      3.013810  \n",
       "std        0.192492      6.931872    181.223903      1.997731  \n",
       "min        0.020000      0.000000      1.000000      0.000000  \n",
       "25%        0.340000      6.000000     40.000000      1.000000  \n",
       "50%        0.500000     12.000000    142.000000      3.000000  \n",
       "75%        0.660000     18.000000    282.000000      5.000000  \n",
       "max        1.000000     23.000000    970.000000      6.000000  "
      ]
     },
     "execution_count": 935,
     "metadata": {},
     "output_type": "execute_result"
    }
   ],
   "source": [
    "# Cek deskriptif statistik fitur numerikal\n",
    "num_features = [feature for feature in df_model.columns if ((df_model[feature].dtypes != 'object'))]\n",
    "df_model[num_features].describe()"
   ]
  },
  {
   "cell_type": "markdown",
   "metadata": {
    "id": "wZhbD0Y3k-BJ"
   },
   "source": [
    "Sejauh ini melihat data kita dengan deskriptif statistiknya tidak ada keanehan dari segi fitur yang akan kita bangun dari segi nilai minimun dan maximum hingga std dari masing masing fitur."
   ]
  },
  {
   "cell_type": "code",
   "execution_count": 936,
   "metadata": {
    "id": "vjqdeYD1k-BK",
    "outputId": "91416f19-43bb-4131-eef0-9dcd1c65306b",
    "scrolled": true
   },
   "outputs": [
    {
     "name": "stdout",
     "output_type": "stream",
     "text": [
      "<class 'pandas.core.frame.DataFrame'>\n",
      "RangeIndex: 12165 entries, 0 to 12164\n",
      "Data columns (total 9 columns):\n",
      " #   Column      Non-Null Count  Dtype  \n",
      "---  ------      --------------  -----  \n",
      " 0   hum         12165 non-null  float64\n",
      " 1   weathersit  12165 non-null  int64  \n",
      " 2   holiday     12165 non-null  int64  \n",
      " 3   season      12165 non-null  int64  \n",
      " 4   atemp       12165 non-null  float64\n",
      " 5   temp        12165 non-null  float64\n",
      " 6   hr          12165 non-null  int64  \n",
      " 7   cnt         12165 non-null  int64  \n",
      " 8   week        12165 non-null  int64  \n",
      "dtypes: float64(3), int64(6)\n",
      "memory usage: 855.5 KB\n"
     ]
    }
   ],
   "source": [
    "# Cek kembali dataset info\n",
    "df_model.info()"
   ]
  },
  {
   "cell_type": "markdown",
   "metadata": {
    "id": "Ckqs3Yj2k-BK"
   },
   "source": [
    "**Data Correlation**"
   ]
  },
  {
   "cell_type": "code",
   "execution_count": 937,
   "metadata": {
    "id": "y3Mly8lBk-BK",
    "outputId": "1f9d5868-f802-4a88-c75a-05308953c872"
   },
   "outputs": [
    {
     "data": {
      "image/png": "[encoded data removed]",
      "text/plain": [
       "<Figure size 1500x1200 with 2 Axes>"
      ]
     },
     "metadata": {},
     "output_type": "display_data"
    }
   ],
   "source": [
    "# Correlation matrix\n",
    "plt.figure(figsize=(15, 12))\n",
    "palette=sns.diverging_palette(20, 220, n=256)\n",
    "corr = df_model.corr(method='pearson')\n",
    "sns.heatmap(corr, annot=True, fmt='.2f', cmap=palette, square=True, linewidths=.5)\n",
    "plt.title('Correlation Matrix', size=15, weight='bold');"
   ]
  },
  {
   "cell_type": "markdown",
   "metadata": {
    "id": "uayEjqoPk-BK"
   },
   "source": [
    "Correlation matrix menunjukkan bahwa tidak ada fitur yang memiliki korelasi yang kuat terhadap fitur cnt. Korelasi paling tinggi dimiliki oleh fitur 'temp, atemp dan hr', di mana korelasinya adalah korelasi positif. Ini berarti semakin atemp dan temp semakin tinggi maka akan semakin banyak pengguna sepeda pada saat itu."
   ]
  },
  {
   "cell_type": "markdown",
   "metadata": {
    "id": "pfBgOAjbk-BL"
   },
   "source": [
    "Selanjutnya, kita akan mengecek distribusi data dan outliers untuk tiap numerikal fitur. Jika distribusinya memiliki skewness yang tinggi, salah satu cara yang dapat kita lakukan untuk menguranginya adalah dengan melakukan rekayasa pada tiap fiturnya."
   ]
  },
  {
   "cell_type": "markdown",
   "metadata": {
    "id": "y1HRfzlfk-BL"
   },
   "source": [
    "**Outliers Detection**"
   ]
  },
  {
   "cell_type": "markdown",
   "metadata": {
    "id": "6fPi3qG_k-BL"
   },
   "source": [
    "Banyaknya outliers pada data tentu akan memengaruhi hasil analisis dan pemodelan yang dilakukan. Ada beberapa hal yang harus dipertimbangkan sebelum memutuskan treatment yang sesuai dengan data, di antaranya adalah dengan mempertimbangkan sisi domain knowledge."
   ]
  },
  {
   "cell_type": "code",
   "execution_count": 938,
   "metadata": {
    "id": "Z3yCDt0rk-BL",
    "outputId": "be96580a-5fbf-4270-cbd1-87befc0d6ab6"
   },
   "outputs": [
    {
     "data": {
      "image/png": "[encoded data removed]",
      "text/plain": [
       "<Figure size 640x480 with 1 Axes>"
      ]
     },
     "metadata": {},
     "output_type": "display_data"
    }
   ],
   "source": [
    "# Plot boxplot untuk mengecek outliers\n",
    "df_model.boxplot(rot=90);"
   ]
  },
  {
   "cell_type": "markdown",
   "metadata": {
    "id": "NaL0Q19Gk-BL"
   },
   "source": [
    "Terlihat banyak sekali outliers pada beberapa fitur. Dalam project ini, untuk membuat dataset yang lebih bersih dari outliers, saya akan melakukan beberapa rekayasa data pada fitur-fitur dengan mempertimbangkan kombinasi antara hasil dari metode IQR dan juga domain knowledge. Nantinya, model yang dihasilkan hanya terbatas dapat memprediksi listing baru yang nilai-nilainya pada rentang data berdasarkan 'clean dataset' ini saja. Di luar rentang data, hasil prediksi dari model akan menjadi bias."
   ]
  },
  {
   "cell_type": "code",
   "execution_count": 939,
   "metadata": {
    "id": "BQURlKUok-BL"
   },
   "outputs": [],
   "source": [
    "# Membuat fungsi untuk mengecek outliers\n",
    "def find_anomalies(data):\n",
    "    q1 = data.quantile(0.25)\n",
    "    q3 = data.quantile(0.75)\n",
    "    iqr = q3 - q1\n",
    "    limit = iqr*1.5\n",
    "    print(f'IQR: {iqr}')\n",
    "\n",
    "    limit_bawah = q1 - limit\n",
    "    limit_atas = q3 + limit\n",
    "    print(f'limit_bawah: {limit_bawah}')\n",
    "    print(f'limit_atas: {limit_atas}')        "
   ]
  },
  {
   "cell_type": "code",
   "execution_count": 940,
   "metadata": {
    "id": "safGEUgsk-BM",
    "outputId": "f91a725f-d2bc-485d-8340-3d631255af50"
   },
   "outputs": [
    {
     "name": "stdout",
     "output_type": "stream",
     "text": [
      "IQR: 242.0\n",
      "limit_bawah: -323.0\n",
      "limit_atas: 645.0\n"
     ]
    }
   ],
   "source": [
    "# Outliers pada fitur cnt\n",
    "find_anomalies(df_model['cnt'])"
   ]
  },
  {
   "cell_type": "code",
   "execution_count": 941,
   "metadata": {
    "id": "Rs5_XFzvk-BM",
    "outputId": "84744d0b-e2fe-4175-909d-4a0617d59d9d"
   },
   "outputs": [
    {
     "name": "stdout",
     "output_type": "stream",
     "text": [
      "IQR: 1.0\n",
      "limit_bawah: -0.5\n",
      "limit_atas: 3.5\n"
     ]
    }
   ],
   "source": [
    "# Outliers pada fitur weathersit\n",
    "find_anomalies(df_model['weathersit'])"
   ]
  },
  {
   "cell_type": "code",
   "execution_count": 942,
   "metadata": {
    "id": "3OEVVKEzk-BN",
    "outputId": "9207f2e4-e5e7-42ac-b312-5419896e48d3"
   },
   "outputs": [
    {
     "name": "stdout",
     "output_type": "stream",
     "text": [
      "IQR: 0.0\n",
      "limit_bawah: 0.0\n",
      "limit_atas: 0.0\n"
     ]
    }
   ],
   "source": [
    "# Outliers pada fitur holiday\n",
    "find_anomalies(df_model['holiday'])"
   ]
  },
  {
   "cell_type": "code",
   "execution_count": 943,
   "metadata": {
    "id": "bGGdotI4k-BN",
    "outputId": "0ca55f03-b1b3-428f-b557-4127dfbadca1"
   },
   "outputs": [
    {
     "name": "stdout",
     "output_type": "stream",
     "text": [
      "IQR: 1.0\n",
      "limit_bawah: 0.5\n",
      "limit_atas: 4.5\n"
     ]
    }
   ],
   "source": [
    "# Outliers pada fitur season\n",
    "find_anomalies(df_model['season'])"
   ]
  },
  {
   "cell_type": "code",
   "execution_count": 944,
   "metadata": {
    "id": "aUxg7wgqk-BN",
    "outputId": "06d88c38-9b60-4325-957f-95d02b5a660b"
   },
   "outputs": [
    {
     "name": "stdout",
     "output_type": "stream",
     "text": [
      "IQR: 0.2879\n",
      "limit_bawah: -0.09854999999999997\n",
      "limit_atas: 1.0530499999999998\n"
     ]
    }
   ],
   "source": [
    "# Outliers pada fitur atemp\n",
    "find_anomalies(df_model['atemp'])"
   ]
  },
  {
   "cell_type": "code",
   "execution_count": 945,
   "metadata": {},
   "outputs": [
    {
     "name": "stdout",
     "output_type": "stream",
     "text": [
      "IQR: 0.32\n",
      "limit_bawah: -0.13999999999999996\n",
      "limit_atas: 1.1400000000000001\n"
     ]
    }
   ],
   "source": [
    "# Outliers pada fitur temp\n",
    "find_anomalies(df_model['temp'])"
   ]
  },
  {
   "cell_type": "code",
   "execution_count": 946,
   "metadata": {},
   "outputs": [
    {
     "name": "stdout",
     "output_type": "stream",
     "text": [
      "IQR: 12.0\n",
      "limit_bawah: -12.0\n",
      "limit_atas: 36.0\n"
     ]
    }
   ],
   "source": [
    "# Outliers pada fitur hr\n",
    "find_anomalies(df_model['hr'])"
   ]
  },
  {
   "cell_type": "code",
   "execution_count": 947,
   "metadata": {},
   "outputs": [
    {
     "name": "stdout",
     "output_type": "stream",
     "text": [
      "IQR: 4.0\n",
      "limit_bawah: -5.0\n",
      "limit_atas: 11.0\n"
     ]
    }
   ],
   "source": [
    "# Outliers pada fitur week\n",
    "find_anomalies(df_model['week'])"
   ]
  },
  {
   "cell_type": "code",
   "execution_count": 948,
   "metadata": {},
   "outputs": [
    {
     "name": "stdout",
     "output_type": "stream",
     "text": [
      "IQR: 0.31000000000000005\n",
      "limit_bawah: 0.004999999999999893\n",
      "limit_atas: 1.245\n"
     ]
    }
   ],
   "source": [
    "# Outliers pada fitur week\n",
    "find_anomalies(df_model['hum'])"
   ]
  },
  {
   "cell_type": "code",
   "execution_count": 953,
   "metadata": {},
   "outputs": [
    {
     "data": {
      "text/plain": [
       "12098"
      ]
     },
     "execution_count": 953,
     "metadata": {},
     "output_type": "execute_result"
    }
   ],
   "source": [
    "df_model[df_model['hum']  > 0.10].count()['cnt']"
   ]
  },
  {
   "cell_type": "code",
   "execution_count": 954,
   "metadata": {},
   "outputs": [
    {
     "data": {
      "text/plain": [
       "count    12098.000000\n",
       "mean         0.628151\n",
       "std          0.189085\n",
       "min          0.210000\n",
       "25%          0.480000\n",
       "50%          0.620000\n",
       "75%          0.780000\n",
       "max          1.000000\n",
       "Name: hum, dtype: float64"
      ]
     },
     "execution_count": 954,
     "metadata": {},
     "output_type": "execute_result"
    }
   ],
   "source": [
    "df_model['hum'].describe()"
   ]
  },
  {
   "cell_type": "code",
   "execution_count": 956,
   "metadata": {},
   "outputs": [
    {
     "data": {
      "text/plain": [
       "Text(0.5, 0, 'Range Selected Hum')"
      ]
     },
     "execution_count": 956,
     "metadata": {},
     "output_type": "execute_result"
    },
    {
     "data": {
      "image/png": "[encoded data removed]",
      "text/plain": [
       "<Figure size 2100x600 with 2 Axes>"
      ]
     },
     "metadata": {},
     "output_type": "display_data"
    }
   ],
   "source": [
    "# Melakukan filtering pada data\n",
    "df_model = df_model[df_model['hum'] > 0.10]\n",
    "\n",
    "# Plot distribusi data sebelum dan sesudah filtering\n",
    "fig, axes = plt.subplots(1,2, figsize=(21, 6))\n",
    "sns.distplot(df['hum'], ax=axes[0])\n",
    "sns.distplot(df_model['hum'], ax=axes[1])\n",
    "axes[0].set_xlabel('Jumlah Pesepeda')\n",
    "axes[1].set_xlabel('Range Selected Hum')"
   ]
  },
  {
   "cell_type": "markdown",
   "metadata": {
    "id": "hbPjkZcrk-BN"
   },
   "source": [
    "Selanjutnya, kita dapat memulai feature engineering terhadap fitur-fitur numerikal."
   ]
  },
  {
   "cell_type": "markdown",
   "metadata": {
    "id": "FHg48Xqkk-BN"
   },
   "source": [
    "**Cnt**"
   ]
  },
  {
   "cell_type": "code",
   "execution_count": 957,
   "metadata": {
    "id": "llZagBgUk-BN",
    "outputId": "8311ac41-d625-44f4-89f8-90421af5c986"
   },
   "outputs": [
    {
     "data": {
      "text/plain": [
       "count    12098.0\n",
       "mean       189.0\n",
       "std        181.0\n",
       "min          1.0\n",
       "25%         40.0\n",
       "50%        142.0\n",
       "75%        281.0\n",
       "max        970.0\n",
       "Name: cnt, dtype: float64"
      ]
     },
     "execution_count": 957,
     "metadata": {},
     "output_type": "execute_result"
    }
   ],
   "source": [
    "# Cek deskriptif statistik kolom cnt\n",
    "round(df_model['cnt'].describe(),0)"
   ]
  },
  {
   "cell_type": "code",
   "execution_count": 958,
   "metadata": {
    "id": "TZkvfn6zk-BO",
    "outputId": "e67ad8fc-d5cb-4848-a2c3-029c8926fe9c"
   },
   "outputs": [
    {
     "data": {
      "text/plain": [
       "9074"
      ]
     },
     "execution_count": 958,
     "metadata": {},
     "output_type": "execute_result"
    }
   ],
   "source": [
    "# Cek price > 25 pesepeda\n",
    "df_model[df_model['cnt'] < 282].count()['cnt']"
   ]
  },
  {
   "cell_type": "markdown",
   "metadata": {
    "id": "81Q9xAyZk-BO"
   },
   "source": [
    "Terdapat 6044 data yang nilai cnt-nya lebih besar dari 142 (batas 50% persentile ) dan kurang dari 282 (batas 75% persentile ). Oleh karena itu, data yang memiliki cnt kurang dari 142 dan lebih dari 282 tidak akan dimasukkan ke dalam pemodelan dikarenakan kita menhindari nilai outliyer yang signifikan, sehingga skewness-nya pun akan berkurang. Hal ini tentu akan menjadi limitasi untuk model yang nantinya dibangun. "
   ]
  },
  {
   "cell_type": "code",
   "execution_count": 959,
   "metadata": {
    "id": "9B85QHjgk-BO",
    "outputId": "a2920cae-4353-4101-c4bd-00bdcc84bb79"
   },
   "outputs": [
    {
     "data": {
      "text/plain": [
       "Text(0.5, 0, 'Range Selected Cnt')"
      ]
     },
     "execution_count": 959,
     "metadata": {},
     "output_type": "execute_result"
    },
    {
     "data": {
      "image/png": "[encoded data removed]",
      "text/plain": [
       "<Figure size 2100x600 with 2 Axes>"
      ]
     },
     "metadata": {},
     "output_type": "display_data"
    }
   ],
   "source": [
    "# Melakukan filtering pada data\n",
    "df_model = df_model[df_model['cnt'] < 282]\n",
    "\n",
    "# Plot distribusi data sebelum dan sesudah filtering\n",
    "fig, axes = plt.subplots(1,2, figsize=(21, 6))\n",
    "sns.distplot(df['cnt'], ax=axes[0])\n",
    "sns.distplot(df_model['cnt'], ax=axes[1])\n",
    "axes[0].set_xlabel('Jumlah Pesepeda')\n",
    "axes[1].set_xlabel('Range Selected Cnt')"
   ]
  },
  {
   "cell_type": "code",
   "execution_count": 960,
   "metadata": {
    "id": "Yfxdx-t1k-BO",
    "outputId": "56154f59-d3a9-418e-b026-24fc1c7a77f0"
   },
   "outputs": [
    {
     "data": {
      "text/plain": [
       "count    9074.000000\n",
       "mean      102.702777\n",
       "std        83.477239\n",
       "min         1.000000\n",
       "25%        23.000000\n",
       "50%        88.000000\n",
       "75%       171.000000\n",
       "max       281.000000\n",
       "Name: cnt, dtype: float64"
      ]
     },
     "execution_count": 960,
     "metadata": {},
     "output_type": "execute_result"
    }
   ],
   "source": [
    "# Cek deskriptif statistik kolom 'cnt' setelah filtering\n",
    "df_model['cnt'].describe()"
   ]
  },
  {
   "cell_type": "code",
   "execution_count": 961,
   "metadata": {},
   "outputs": [],
   "source": [
    "#round pada fiture atemp menjadi 2 digit dibelakang koma\n",
    "df_model['atemp'] = round(df_model['atemp'],2)"
   ]
  },
  {
   "cell_type": "markdown",
   "metadata": {
    "id": "WlSMD64Pk-BT"
   },
   "source": [
    "**Clean Dataset**"
   ]
  },
  {
   "cell_type": "code",
   "execution_count": 962,
   "metadata": {
    "id": "RUemczG4k-BT",
    "outputId": "c0b7d59e-5cb5-4620-f780-cff119134060"
   },
   "outputs": [
    {
     "data": {
      "text/html": [
       "<div>\n",
       "<style scoped>\n",
       "    .dataframe tbody tr th:only-of-type {\n",
       "        vertical-align: middle;\n",
       "    }\n",
       "\n",
       "    .dataframe tbody tr th {\n",
       "        vertical-align: top;\n",
       "    }\n",
       "\n",
       "    .dataframe thead th {\n",
       "        text-align: right;\n",
       "    }\n",
       "</style>\n",
       "<table border=\"1\" class=\"dataframe\">\n",
       "  <thead>\n",
       "    <tr style=\"text-align: right;\">\n",
       "      <th></th>\n",
       "      <th>hum</th>\n",
       "      <th>weathersit</th>\n",
       "      <th>holiday</th>\n",
       "      <th>season</th>\n",
       "      <th>atemp</th>\n",
       "      <th>temp</th>\n",
       "      <th>hr</th>\n",
       "      <th>cnt</th>\n",
       "      <th>week</th>\n",
       "    </tr>\n",
       "  </thead>\n",
       "  <tbody>\n",
       "    <tr>\n",
       "      <th>0</th>\n",
       "      <td>0.62</td>\n",
       "      <td>1</td>\n",
       "      <td>0</td>\n",
       "      <td>4</td>\n",
       "      <td>0.35</td>\n",
       "      <td>0.36</td>\n",
       "      <td>16</td>\n",
       "      <td>250</td>\n",
       "      <td>5</td>\n",
       "    </tr>\n",
       "    <tr>\n",
       "      <th>1</th>\n",
       "      <td>0.64</td>\n",
       "      <td>1</td>\n",
       "      <td>0</td>\n",
       "      <td>2</td>\n",
       "      <td>0.52</td>\n",
       "      <td>0.54</td>\n",
       "      <td>4</td>\n",
       "      <td>18</td>\n",
       "      <td>0</td>\n",
       "    </tr>\n",
       "    <tr>\n",
       "      <th>2</th>\n",
       "      <td>0.53</td>\n",
       "      <td>1</td>\n",
       "      <td>0</td>\n",
       "      <td>2</td>\n",
       "      <td>0.62</td>\n",
       "      <td>0.62</td>\n",
       "      <td>23</td>\n",
       "      <td>107</td>\n",
       "      <td>3</td>\n",
       "    </tr>\n",
       "    <tr>\n",
       "      <th>3</th>\n",
       "      <td>0.87</td>\n",
       "      <td>2</td>\n",
       "      <td>0</td>\n",
       "      <td>2</td>\n",
       "      <td>0.35</td>\n",
       "      <td>0.36</td>\n",
       "      <td>8</td>\n",
       "      <td>145</td>\n",
       "      <td>6</td>\n",
       "    </tr>\n",
       "    <tr>\n",
       "      <th>5</th>\n",
       "      <td>0.72</td>\n",
       "      <td>1</td>\n",
       "      <td>0</td>\n",
       "      <td>4</td>\n",
       "      <td>0.45</td>\n",
       "      <td>0.46</td>\n",
       "      <td>0</td>\n",
       "      <td>45</td>\n",
       "      <td>1</td>\n",
       "    </tr>\n",
       "  </tbody>\n",
       "</table>\n",
       "</div>"
      ],
      "text/plain": [
       "    hum  weathersit  holiday  season  atemp  temp  hr  cnt  week\n",
       "0  0.62           1        0       4   0.35  0.36  16  250     5\n",
       "1  0.64           1        0       2   0.52  0.54   4   18     0\n",
       "2  0.53           1        0       2   0.62  0.62  23  107     3\n",
       "3  0.87           2        0       2   0.35  0.36   8  145     6\n",
       "5  0.72           1        0       4   0.45  0.46   0   45     1"
      ]
     },
     "execution_count": 962,
     "metadata": {},
     "output_type": "execute_result"
    }
   ],
   "source": [
    "# Cek dataset yang sudah bersih\n",
    "df_model.head()"
   ]
  },
  {
   "cell_type": "code",
   "execution_count": 963,
   "metadata": {
    "id": "QwhkqkNpk-BT",
    "outputId": "14bebdfe-3785-4577-f083-7835f569902c"
   },
   "outputs": [
    {
     "name": "stdout",
     "output_type": "stream",
     "text": [
      "<class 'pandas.core.frame.DataFrame'>\n",
      "Index: 9074 entries, 0 to 12163\n",
      "Data columns (total 9 columns):\n",
      " #   Column      Non-Null Count  Dtype  \n",
      "---  ------      --------------  -----  \n",
      " 0   hum         9074 non-null   float64\n",
      " 1   weathersit  9074 non-null   int64  \n",
      " 2   holiday     9074 non-null   int64  \n",
      " 3   season      9074 non-null   int64  \n",
      " 4   atemp       9074 non-null   float64\n",
      " 5   temp        9074 non-null   float64\n",
      " 6   hr          9074 non-null   int64  \n",
      " 7   cnt         9074 non-null   int64  \n",
      " 8   week        9074 non-null   int64  \n",
      "dtypes: float64(3), int64(6)\n",
      "memory usage: 708.9 KB\n"
     ]
    }
   ],
   "source": [
    "# Cek kembali info dataset\n",
    "df_model.info()"
   ]
  },
  {
   "cell_type": "markdown",
   "metadata": {
    "id": "5COvjV0Ik-BX"
   },
   "source": [
    "Pada akhirnya, tersisa 4246 baris data yang akan digunakan untuk pemodelan. Ini berarti lebih dari 50% data sudah tereliminasi sesuai dengan asumsi dan argumen yang disampaikan di proses-proses sebelumnya."
   ]
  },
  {
   "cell_type": "code",
   "execution_count": 964,
   "metadata": {},
   "outputs": [
    {
     "data": {
      "text/plain": [
       "<Axes: >"
      ]
     },
     "execution_count": 964,
     "metadata": {},
     "output_type": "execute_result"
    },
    {
     "data": {
      "image/png": "[encoded data removed]",
      "text/plain": [
       "<Figure size 640x480 with 1 Axes>"
      ]
     },
     "metadata": {},
     "output_type": "display_data"
    }
   ],
   "source": [
    "# Plot boxplot untuk mengecek outliers\n",
    "df_model.boxplot(rot=90)"
   ]
  },
  {
   "cell_type": "markdown",
   "metadata": {
    "id": "-L7g9nCnk-BX"
   },
   "source": [
    "### **Modeling**"
   ]
  },
  {
   "cell_type": "code",
   "execution_count": 965,
   "metadata": {
    "id": "pyjlbRyfk-BX"
   },
   "outputs": [],
   "source": [
    "# Import library untuk modeling\n",
    "\n",
    "from sklearn.model_selection import train_test_split, cross_val_score, RandomizedSearchCV, GridSearchCV, KFold\n",
    "\n",
    "import category_encoders as ce\n",
    "from sklearn.preprocessing import OneHotEncoder\n",
    "from sklearn.compose import ColumnTransformer\n",
    "from sklearn.pipeline import Pipeline\n",
    "\n",
    "from sklearn.linear_model import LinearRegression\n",
    "from sklearn.neighbors import KNeighborsRegressor\n",
    "from sklearn.tree import DecisionTreeRegressor\n",
    "from sklearn.ensemble import RandomForestRegressor\n",
    "from xgboost.sklearn import XGBRegressor\n",
    "from sklearn.compose import TransformedTargetRegressor\n",
    "\n",
    "from sklearn.preprocessing import StandardScaler\n",
    "\n",
    "from sklearn.metrics import r2_score, mean_squared_error, mean_absolute_error, mean_absolute_percentage_error"
   ]
  },
  {
   "cell_type": "markdown",
   "metadata": {
    "id": "Qia81EXBk-BY"
   },
   "source": [
    "**Data Splitting**"
   ]
  },
  {
   "cell_type": "code",
   "execution_count": 966,
   "metadata": {
    "id": "xNYa__0Kk-BY"
   },
   "outputs": [],
   "source": [
    "# Memisahkan data independen variabel dengan target\n",
    "X = df_model.drop(['cnt'], axis=1)\n",
    "y = df_model['cnt']"
   ]
  },
  {
   "cell_type": "markdown",
   "metadata": {
    "id": "u6eU0sPrk-BY"
   },
   "source": [
    "**Train and Test Splitting**"
   ]
  },
  {
   "cell_type": "code",
   "execution_count": 967,
   "metadata": {
    "id": "1zuWGtbYk-BZ"
   },
   "outputs": [],
   "source": [
    "# Splitting data training dan test dengan proporsi 80:20\n",
    "X_train, X_test, y_train, y_test= train_test_split(\n",
    "    X,\n",
    "    y,  \n",
    "    test_size=0.20,\n",
    "    random_state=1)"
   ]
  },
  {
   "cell_type": "code",
   "execution_count": 968,
   "metadata": {},
   "outputs": [],
   "source": [
    "#Save train and test data\n",
    "train_data = pd.concat([X_train, y_train], axis=1)\n",
    "test_data = pd.concat([X_test, y_test])\n",
    "\n",
    "# Menentukan path file dengan raw string\n",
    "train_file_path = r'C:\\Users\\Tofik\\Capstone3\\src\\train_data.csv'\n",
    "test_file_path = r'C:\\Users\\Tofik\\Capstone3\\src\\test_data.csv'\n",
    "\n",
    "train_data.to_csv(train_file_path, index=False)\n",
    "test_data.to_csv(test_file_path, index=False)"
   ]
  },
  {
   "cell_type": "markdown",
   "metadata": {
    "id": "ndjW0HTAk-BZ"
   },
   "source": [
    "**Choose a Benchmark Model**"
   ]
  },
  {
   "cell_type": "code",
   "execution_count": 969,
   "metadata": {
    "id": "F5Oofy6vk-BZ",
    "outputId": "95f77f4c-faf6-4a40-9064-fa922b082604"
   },
   "outputs": [
    {
     "name": "stdout",
     "output_type": "stream",
     "text": [
      "[-80.93370405 -80.51191897 -78.33328214 -81.07765237 -78.95482419] TransformedTargetRegressor(func=<ufunc 'log'>, inverse_func=<ufunc 'exp'>,\n",
      "                           regressor=LinearRegression())\n",
      "[-58.52707047 -58.28943468 -57.07979642 -58.86804504 -57.80472274] TransformedTargetRegressor(func=<ufunc 'log'>, inverse_func=<ufunc 'exp'>,\n",
      "                           regressor=LinearRegression())\n",
      "[-1.3205738  -1.36872109 -1.4277302  -1.35226896 -1.34890663] TransformedTargetRegressor(func=<ufunc 'log'>, inverse_func=<ufunc 'exp'>,\n",
      "                           regressor=LinearRegression())\n",
      "[-55.0541724  -55.15474359 -53.03007749 -54.58321889 -54.53507832] TransformedTargetRegressor(func=<ufunc 'log'>, inverse_func=<ufunc 'exp'>,\n",
      "                           regressor=KNeighborsRegressor())\n",
      "[-38.35634196 -38.20158589 -36.78745732 -37.76421386 -38.42914681] TransformedTargetRegressor(func=<ufunc 'log'>, inverse_func=<ufunc 'exp'>,\n",
      "                           regressor=KNeighborsRegressor())\n",
      "[-0.78845441 -0.81436501 -0.82123975 -0.8376277  -0.83203919] TransformedTargetRegressor(func=<ufunc 'log'>, inverse_func=<ufunc 'exp'>,\n",
      "                           regressor=KNeighborsRegressor())\n",
      "[-50.41875677 -52.38488932 -51.61666694 -49.39600845 -51.75413595] TransformedTargetRegressor(func=<ufunc 'log'>, inverse_func=<ufunc 'exp'>,\n",
      "                           regressor=DecisionTreeRegressor(random_state=1))\n",
      "[-33.67123441 -34.81707197 -33.51938168 -33.3753093  -34.73837041] TransformedTargetRegressor(func=<ufunc 'log'>, inverse_func=<ufunc 'exp'>,\n",
      "                           regressor=DecisionTreeRegressor(random_state=1))\n",
      "[-0.52563319 -0.52899122 -0.54163773 -0.52571407 -0.57102536] TransformedTargetRegressor(func=<ufunc 'log'>, inverse_func=<ufunc 'exp'>,\n",
      "                           regressor=DecisionTreeRegressor(random_state=1))\n",
      "[-38.89756353 -39.15699119 -38.58177286 -38.9894101  -39.16640843] TransformedTargetRegressor(func=<ufunc 'log'>, inverse_func=<ufunc 'exp'>,\n",
      "                           regressor=RandomForestRegressor(random_state=1))\n",
      "[-26.75629712 -26.16885326 -25.59718928 -26.61775686 -26.57456147] TransformedTargetRegressor(func=<ufunc 'log'>, inverse_func=<ufunc 'exp'>,\n",
      "                           regressor=RandomForestRegressor(random_state=1))\n",
      "[-0.4097612  -0.39152317 -0.40167435 -0.39311602 -0.39125168] TransformedTargetRegressor(func=<ufunc 'log'>, inverse_func=<ufunc 'exp'>,\n",
      "                           regressor=RandomForestRegressor(random_state=1))\n",
      "[-36.37565654 -37.08168116 -38.01667861 -39.00107898 -36.88458989] TransformedTargetRegressor(func=<ufunc 'log'>, inverse_func=<ufunc 'exp'>,\n",
      "                           regressor=XGBRegressor(base_score=None, booster=None,\n",
      "                                                  callbacks=None,\n",
      "                                                  colsample_bylevel=None,\n",
      "                                                  colsample_bynode=None,\n",
      "                                                  colsample_bytree=None,\n",
      "                                                  device=None,\n",
      "                                                  early_stopping_rounds=None,\n",
      "                                                  enable_categorical=False,\n",
      "                                                  eval_metric=None,\n",
      "                                                  feature_types=None,\n",
      "                                                  gamma=None, grow_policy=None,\n",
      "                                                  importance_type=None,\n",
      "                                                  interaction_constraints=None,\n",
      "                                                  learning_rate=None,\n",
      "                                                  max_bin=None,\n",
      "                                                  max_cat_threshold=None,\n",
      "                                                  max_cat_to_onehot=None,\n",
      "                                                  max_delta_step=None,\n",
      "                                                  max_depth=None,\n",
      "                                                  max_leaves=None,\n",
      "                                                  min_child_weight=None,\n",
      "                                                  missing=nan,\n",
      "                                                  monotone_constraints=None,\n",
      "                                                  multi_strategy=None,\n",
      "                                                  n_estimators=None,\n",
      "                                                  n_jobs=None,\n",
      "                                                  num_parallel_tree=None,\n",
      "                                                  random_state=1, ...))\n",
      "[-24.9628148  -25.30861712 -25.26443426 -26.60547372 -24.99585439] TransformedTargetRegressor(func=<ufunc 'log'>, inverse_func=<ufunc 'exp'>,\n",
      "                           regressor=XGBRegressor(base_score=None, booster=None,\n",
      "                                                  callbacks=None,\n",
      "                                                  colsample_bylevel=None,\n",
      "                                                  colsample_bynode=None,\n",
      "                                                  colsample_bytree=None,\n",
      "                                                  device=None,\n",
      "                                                  early_stopping_rounds=None,\n",
      "                                                  enable_categorical=False,\n",
      "                                                  eval_metric=None,\n",
      "                                                  feature_types=None,\n",
      "                                                  gamma=None, grow_policy=None,\n",
      "                                                  importance_type=None,\n",
      "                                                  interaction_constraints=None,\n",
      "                                                  learning_rate=None,\n",
      "                                                  max_bin=None,\n",
      "                                                  max_cat_threshold=None,\n",
      "                                                  max_cat_to_onehot=None,\n",
      "                                                  max_delta_step=None,\n",
      "                                                  max_depth=None,\n",
      "                                                  max_leaves=None,\n",
      "                                                  min_child_weight=None,\n",
      "                                                  missing=nan,\n",
      "                                                  monotone_constraints=None,\n",
      "                                                  multi_strategy=None,\n",
      "                                                  n_estimators=None,\n",
      "                                                  n_jobs=None,\n",
      "                                                  num_parallel_tree=None,\n",
      "                                                  random_state=1, ...))\n",
      "[-0.3779442  -0.37247104 -0.38208507 -0.38605738 -0.35885717] TransformedTargetRegressor(func=<ufunc 'log'>, inverse_func=<ufunc 'exp'>,\n",
      "                           regressor=XGBRegressor(base_score=None, booster=None,\n",
      "                                                  callbacks=None,\n",
      "                                                  colsample_bylevel=None,\n",
      "                                                  colsample_bynode=None,\n",
      "                                                  colsample_bytree=None,\n",
      "                                                  device=None,\n",
      "                                                  early_stopping_rounds=None,\n",
      "                                                  enable_categorical=False,\n",
      "                                                  eval_metric=None,\n",
      "                                                  feature_types=None,\n",
      "                                                  gamma=None, grow_policy=None,\n",
      "                                                  importance_type=None,\n",
      "                                                  interaction_constraints=None,\n",
      "                                                  learning_rate=None,\n",
      "                                                  max_bin=None,\n",
      "                                                  max_cat_threshold=None,\n",
      "                                                  max_cat_to_onehot=None,\n",
      "                                                  max_delta_step=None,\n",
      "                                                  max_depth=None,\n",
      "                                                  max_leaves=None,\n",
      "                                                  min_child_weight=None,\n",
      "                                                  missing=nan,\n",
      "                                                  monotone_constraints=None,\n",
      "                                                  multi_strategy=None,\n",
      "                                                  n_estimators=None,\n",
      "                                                  n_jobs=None,\n",
      "                                                  num_parallel_tree=None,\n",
      "                                                  random_state=1, ...))\n"
     ]
    }
   ],
   "source": [
    "# Define algoritma yang digunakan\n",
    "lr = LinearRegression()\n",
    "knn = KNeighborsRegressor()\n",
    "dt = DecisionTreeRegressor(random_state=1)\n",
    "rf = RandomForestRegressor(random_state=1)\n",
    "xgb = XGBRegressor(random_state=1)\n",
    "\n",
    "# Pemodelan dilakukan dalam skala logaritmik, namun kemudian di-inverse kembali untuk interpretasi\n",
    "log_lr = TransformedTargetRegressor(lr, func=np.log, inverse_func=np.exp)\n",
    "log_knn = TransformedTargetRegressor(knn, func=np.log, inverse_func=np.exp)\n",
    "log_dt = TransformedTargetRegressor(dt, func=np.log, inverse_func=np.exp)\n",
    "log_rf = TransformedTargetRegressor(rf, func=np.log, inverse_func=np.exp)\n",
    "log_xgb = TransformedTargetRegressor(xgb, func=np.log, inverse_func=np.exp)\n",
    "\n",
    "# Scaling data\n",
    "scaler = StandardScaler()\n",
    "\n",
    "# Kandidat algoritma\n",
    "models = [log_lr, log_knn, log_dt, log_rf, log_xgb]\n",
    "\n",
    "score_rmse = []\n",
    "nilai_mean_rmse = []\n",
    "nilai_std_rmse = []\n",
    "\n",
    "score_mae = []\n",
    "nilai_mean_mae = []\n",
    "nilai_std_mae = []\n",
    "\n",
    "score_mape = []\n",
    "nilai_mean_mape = []\n",
    "nilai_std_mape = []\n",
    "\n",
    "# Mencari algoritma terbaik berdasarkan tiap metrics\n",
    "for i in models:\n",
    "    \n",
    "    crossval = KFold(n_splits=5, shuffle=True, random_state=1)\n",
    "\n",
    "    estimator = Pipeline([\n",
    "        ('scaler', scaler),\n",
    "        ('model', i)\n",
    "    ])\n",
    "\n",
    "    # RMSE\n",
    "    model_cv_rmse = cross_val_score(\n",
    "        estimator, \n",
    "        X_train, \n",
    "        y_train, \n",
    "        cv=crossval, \n",
    "        scoring='neg_root_mean_squared_error', \n",
    "        error_score='raise'\n",
    "        )\n",
    "\n",
    "    print(model_cv_rmse, i)\n",
    "\n",
    "    score_rmse.append(model_cv_rmse)\n",
    "    nilai_mean_rmse.append(model_cv_rmse.mean())\n",
    "    nilai_std_rmse.append(model_cv_rmse.std())\n",
    "\n",
    "    # MAE\n",
    "    model_cv_mae = cross_val_score(\n",
    "        estimator, \n",
    "        X_train, \n",
    "        y_train, \n",
    "        cv=crossval, \n",
    "        scoring='neg_mean_absolute_error', \n",
    "        error_score='raise'\n",
    "        )\n",
    "\n",
    "    print(model_cv_mae, i)\n",
    "\n",
    "    score_mae.append(model_cv_mae)\n",
    "    nilai_mean_mae.append(model_cv_mae.mean())\n",
    "    nilai_std_mae.append(model_cv_mae.std())\n",
    "\n",
    "    # MAPE\n",
    "    model_cv_mape = cross_val_score(\n",
    "        estimator, \n",
    "        X_train, \n",
    "        y_train, \n",
    "        cv=crossval, \n",
    "        scoring='neg_mean_absolute_percentage_error', \n",
    "        error_score='raise'\n",
    "        )\n",
    "\n",
    "    print(model_cv_mape, i)\n",
    "\n",
    "    score_mape.append(model_cv_mape)\n",
    "    nilai_mean_mape.append(model_cv_mape.mean())\n",
    "    nilai_std_mape.append(model_cv_mape.std())"
   ]
  },
  {
   "cell_type": "code",
   "execution_count": 970,
   "metadata": {
    "id": "MHbwc3DSk-BZ",
    "outputId": "9a8952c5-2fef-4f8a-86d4-6933971758a5"
   },
   "outputs": [
    {
     "data": {
      "text/html": [
       "<div>\n",
       "<style scoped>\n",
       "    .dataframe tbody tr th:only-of-type {\n",
       "        vertical-align: middle;\n",
       "    }\n",
       "\n",
       "    .dataframe tbody tr th {\n",
       "        vertical-align: top;\n",
       "    }\n",
       "\n",
       "    .dataframe thead th {\n",
       "        text-align: right;\n",
       "    }\n",
       "</style>\n",
       "<table border=\"1\" class=\"dataframe\">\n",
       "  <thead>\n",
       "    <tr style=\"text-align: right;\">\n",
       "      <th></th>\n",
       "      <th>Model</th>\n",
       "      <th>Mean_RMSE</th>\n",
       "      <th>Std_RMSE</th>\n",
       "      <th>Mean_MAE</th>\n",
       "      <th>Std_MAE</th>\n",
       "      <th>Mean_MAPE</th>\n",
       "      <th>Std_MAPE</th>\n",
       "    </tr>\n",
       "  </thead>\n",
       "  <tbody>\n",
       "    <tr>\n",
       "      <th>0</th>\n",
       "      <td>Linear Regression</td>\n",
       "      <td>-79.962276</td>\n",
       "      <td>1.109813</td>\n",
       "      <td>-58.113814</td>\n",
       "      <td>0.622128</td>\n",
       "      <td>-1.363640</td>\n",
       "      <td>0.035593</td>\n",
       "    </tr>\n",
       "    <tr>\n",
       "      <th>1</th>\n",
       "      <td>KNN Regressor</td>\n",
       "      <td>-54.471458</td>\n",
       "      <td>0.761650</td>\n",
       "      <td>-37.907749</td>\n",
       "      <td>0.605820</td>\n",
       "      <td>-0.818745</td>\n",
       "      <td>0.017183</td>\n",
       "    </tr>\n",
       "    <tr>\n",
       "      <th>2</th>\n",
       "      <td>DecisionTree Regressor</td>\n",
       "      <td>-51.114091</td>\n",
       "      <td>1.068875</td>\n",
       "      <td>-34.024274</td>\n",
       "      <td>0.622763</td>\n",
       "      <td>-0.538600</td>\n",
       "      <td>0.017246</td>\n",
       "    </tr>\n",
       "    <tr>\n",
       "      <th>3</th>\n",
       "      <td>RandomForest Regressor</td>\n",
       "      <td>-38.958429</td>\n",
       "      <td>0.214111</td>\n",
       "      <td>-26.342932</td>\n",
       "      <td>0.421067</td>\n",
       "      <td>-0.397465</td>\n",
       "      <td>0.007235</td>\n",
       "    </tr>\n",
       "    <tr>\n",
       "      <th>4</th>\n",
       "      <td>XGBoost Regressor</td>\n",
       "      <td>-37.471937</td>\n",
       "      <td>0.931034</td>\n",
       "      <td>-25.427439</td>\n",
       "      <td>0.605078</td>\n",
       "      <td>-0.375483</td>\n",
       "      <td>0.009455</td>\n",
       "    </tr>\n",
       "  </tbody>\n",
       "</table>\n",
       "</div>"
      ],
      "text/plain": [
       "                    Model  Mean_RMSE  Std_RMSE   Mean_MAE   Std_MAE  \\\n",
       "0       Linear Regression -79.962276  1.109813 -58.113814  0.622128   \n",
       "1           KNN Regressor -54.471458  0.761650 -37.907749  0.605820   \n",
       "2  DecisionTree Regressor -51.114091  1.068875 -34.024274  0.622763   \n",
       "3  RandomForest Regressor -38.958429  0.214111 -26.342932  0.421067   \n",
       "4       XGBoost Regressor -37.471937  0.931034 -25.427439  0.605078   \n",
       "\n",
       "   Mean_MAPE  Std_MAPE  \n",
       "0  -1.363640  0.035593  \n",
       "1  -0.818745  0.017183  \n",
       "2  -0.538600  0.017246  \n",
       "3  -0.397465  0.007235  \n",
       "4  -0.375483  0.009455  "
      ]
     },
     "execution_count": 970,
     "metadata": {},
     "output_type": "execute_result"
    }
   ],
   "source": [
    "# Evaluasi hasil dari 5 kandidat algoritma yang digunakan\n",
    "pd.DataFrame({\n",
    "    'Model': ['Linear Regression', 'KNN Regressor', 'DecisionTree Regressor', 'RandomForest Regressor', 'XGBoost Regressor'],\n",
    "    'Mean_RMSE': nilai_mean_rmse,\n",
    "    'Std_RMSE': nilai_std_rmse,\n",
    "    'Mean_MAE': nilai_mean_mae,\n",
    "    'Std_MAE': nilai_std_mae,\n",
    "    'Mean_MAPE': nilai_mean_mape,\n",
    "    'Std_MAPE': nilai_std_mape\n",
    "})"
   ]
  },
  {
   "cell_type": "markdown",
   "metadata": {
    "id": "8KJ9IngXk-Ba"
   },
   "source": [
    "Terdapat perbedaan cukup signifikan antara nilai RMSE dan MAE, di mana nilai RMSE lebih tinggi karena nilai residuals atau error-nya dikuadratkan terlebih dahulu sebelum dirata-ratakan. Hal ini menyebabkan RMSE akan memberikan 'weight' yang lebih tinggi untuk nilai error yang besar. Dengan kata lain, terdapat nilai-nilai error yang besar yang dihasilkan oleh semua algoritma yang digunakan, sehingga ada perbedaan signifikan antara nilai RMSE dan MAE.\n",
    "\n",
    "- Berdasarkan nilai RMSE, XGBoost adalah model terbaik. Sedangkan jika berdasarkan nilai MAE dan MAPE, RandomForest memiliki nilai paling rendah.\n",
    "- Selanjutnya, akan dilakukan prediksi pada test set dengan 2 benchmark model terbaik, yaitu XGBoost dan RandomForest. "
   ]
  },
  {
   "cell_type": "markdown",
   "metadata": {
    "id": "-Gufm67ek-Ba"
   },
   "source": [
    "**Predict to Test Set with the Benchmark Model**\n",
    "\n",
    "Prediksi pada test set dengan menggunakan model XGBoost dan Random Forest"
   ]
  },
  {
   "cell_type": "code",
   "execution_count": 971,
   "metadata": {
    "id": "T69VCfnPk-Ba",
    "outputId": "3d4fe126-58da-4276-94b4-5cd9b8fdf3b0"
   },
   "outputs": [
    {
     "data": {
      "text/html": [
       "<div>\n",
       "<style scoped>\n",
       "    .dataframe tbody tr th:only-of-type {\n",
       "        vertical-align: middle;\n",
       "    }\n",
       "\n",
       "    .dataframe tbody tr th {\n",
       "        vertical-align: top;\n",
       "    }\n",
       "\n",
       "    .dataframe thead th {\n",
       "        text-align: right;\n",
       "    }\n",
       "</style>\n",
       "<table border=\"1\" class=\"dataframe\">\n",
       "  <thead>\n",
       "    <tr style=\"text-align: right;\">\n",
       "      <th></th>\n",
       "      <th>RMSE</th>\n",
       "      <th>MAE</th>\n",
       "      <th>MAPE</th>\n",
       "    </tr>\n",
       "  </thead>\n",
       "  <tbody>\n",
       "    <tr>\n",
       "      <th>XGB</th>\n",
       "      <td>34.749719</td>\n",
       "      <td>24.279478</td>\n",
       "      <td>0.529842</td>\n",
       "    </tr>\n",
       "    <tr>\n",
       "      <th>RandomForest</th>\n",
       "      <td>35.643207</td>\n",
       "      <td>24.559715</td>\n",
       "      <td>0.454193</td>\n",
       "    </tr>\n",
       "  </tbody>\n",
       "</table>\n",
       "</div>"
      ],
      "text/plain": [
       "                   RMSE        MAE      MAPE\n",
       "XGB           34.749719  24.279478  0.529842\n",
       "RandomForest  35.643207  24.559715  0.454193"
      ]
     },
     "execution_count": 971,
     "metadata": {},
     "output_type": "execute_result"
    }
   ],
   "source": [
    "# Benchmark 2 model terbaik\n",
    "models = {\n",
    "    'XGB': XGBRegressor(random_state=1),\n",
    "    'RandomForest': RandomForestRegressor(random_state=1)\n",
    "}\n",
    "\n",
    "score_rmse = []\n",
    "score_mae = []\n",
    "score_mape = []\n",
    "\n",
    "# Prediksi pada test set\n",
    "for i in models:\n",
    "\n",
    "    model = Pipeline([\n",
    "        ('scaler', scaler),\n",
    "        ('model', models[i])\n",
    "        ])\n",
    "\n",
    "    model.fit(X_train, y_train)\n",
    "    y_pred = model.predict(X_test)\n",
    "    score_rmse.append(np.sqrt(mean_squared_error(y_test, y_pred)))\n",
    "    score_mae.append(mean_absolute_error(y_test, y_pred))\n",
    "    score_mape.append(mean_absolute_percentage_error(y_test, y_pred))\n",
    "\n",
    "score_before_tuning = pd.DataFrame({'RMSE': score_rmse, 'MAE': score_mae, 'MAPE': score_mape}, index=models.keys())\n",
    "score_before_tuning"
   ]
  },
  {
   "cell_type": "markdown",
   "metadata": {
    "id": "3LY3kku-k-Ba"
   },
   "source": [
    "- Ketika dilakukan prediksi pada test set, performa XGBoost secara akumulatif sedikit lebih baik. Hal ini dapat dilihat dari nilai RMSE dan MAE yang lebih rendah dari RandomForest.\n"
   ]
  },
  {
   "cell_type": "markdown",
   "metadata": {
    "id": "_4cmBFxKk-Bb"
   },
   "source": [
    "**Hyperparameter Tuning**\n",
    "\n",
    "Karena model XGBoost memiliki performa yang lebih baik dari RandomForest, maka selanjutnya kita akan menggunakan model XGBoost ini sebagai model akhir. Pada tahap ini, kita akan melakukan hyperparameter tuning pada model XGBoost dengan harapan dapat meningkatkan performa model."
   ]
  },
  {
   "cell_type": "markdown",
   "metadata": {
    "id": "7L-Nr3xkk-Bb"
   },
   "source": [
    "Untuk panduan tuning model XGBoost, dapat merujuk ke [Tuning XGBoost](https://xgboost.readthedocs.io/en/latest/parameter.html#general-parameters)."
   ]
  },
  {
   "cell_type": "code",
   "execution_count": 972,
   "metadata": {
    "id": "lqIjIJepk-Bb"
   },
   "outputs": [],
   "source": [
    "# Kedalaman pohon\n",
    "max_depth = list(np.arange(1, 11))\n",
    "\n",
    "# Learning rate\n",
    "learning_rate = list(np.arange(1, 100)/100)\n",
    "\n",
    "# Jumlah pohon\n",
    "n_estimators = list(np.arange(100, 201))\n",
    "\n",
    "# Jumlah baris tiap pohon (% dari total baris train set)\n",
    "subsample = list(np.arange(2, 10)/10)\n",
    "\n",
    "# Gamma (min_impurity_decrease)\n",
    "gamma = list(np.arange(1, 11)) # Semakin besar nilainya, semakin konservatif/simpel modelnya\n",
    "\n",
    "# Jumlah feature yang digunakan untuk tiap pohon (% dari total kolom train set)\n",
    "colsample_bytree = list(np.arange(1, 10)/10)\n",
    "\n",
    "# Alpha (regularization)\n",
    "reg_alpha = list(np.logspace(-3, 1, 10)) # Semakin besar nilainya, semakin konservatif/simpel modelnya\n",
    "\n",
    "\n",
    "# Hyperparam space XGboost\n",
    "hyperparam_space_xgb = {\n",
    "    'model__max_depth': max_depth, \n",
    "    'model__learning_rate': learning_rate,\n",
    "    'model__n_estimators': n_estimators,\n",
    "    'model__subsample': subsample,\n",
    "    'model__gamma': gamma,\n",
    "    'model__colsample_bytree': colsample_bytree,\n",
    "    'model__reg_alpha': reg_alpha\n",
    "}"
   ]
  },
  {
   "cell_type": "code",
   "execution_count": 973,
   "metadata": {
    "id": "rH8NH89Uk-Bb"
   },
   "outputs": [],
   "source": [
    "# Benchmark model dengan hyperparameter tuning\n",
    "xgb = XGBRegressor(random_state=1, verbosity=0)\n",
    "\n",
    "# Membuat algorithm chains\n",
    "estimator_xgb = Pipeline([\n",
    "        ('scaler', scaler),\n",
    "        ('model', xgb)\n",
    "        ])\n",
    "\n",
    "crossval = KFold(n_splits=5, shuffle=True, random_state=1)\n",
    "\n",
    "# Hyperparameter tuning\n",
    "random_xgb = RandomizedSearchCV(\n",
    "    estimator_xgb, \n",
    "    param_distributions = hyperparam_space_xgb,\n",
    "    n_iter = 50,\n",
    "    cv = crossval, \n",
    "    scoring = ['neg_root_mean_squared_error', 'neg_mean_absolute_error', 'neg_mean_absolute_percentage_error'], \n",
    "    n_jobs = -1,\n",
    "    refit = 'neg_root_mean_squared_error', # Hanya bisa memilih salah stau metric untuk optimisasi\n",
    "    random_state = 1  \n",
    ")"
   ]
  },
  {
   "cell_type": "code",
   "execution_count": 974,
   "metadata": {
    "id": "WoI0jcLHk-Bb",
    "outputId": "e5fb85b8-50dc-4679-9574-9ad794097c2d"
   },
   "outputs": [
    {
     "data": {
      "text/html": [
       "<style>#sk-container-id-14 {color: black;}#sk-container-id-14 pre{padding: 0;}#sk-container-id-14 div.sk-toggleable {background-color: white;}#sk-container-id-14 label.sk-toggleable__label {cursor: pointer;display: block;width: 100%;margin-bottom: 0;padding: 0.3em;box-sizing: border-box;text-align: center;}#sk-container-id-14 label.sk-toggleable__label-arrow:before {content: \"▸\";float: left;margin-right: 0.25em;color: #696969;}#sk-container-id-14 label.sk-toggleable__label-arrow:hover:before {color: black;}#sk-container-id-14 div.sk-estimator:hover label.sk-toggleable__label-arrow:before {color: black;}#sk-container-id-14 div.sk-toggleable__content {max-height: 0;max-width: 0;overflow: hidden;text-align: left;background-color: #f0f8ff;}#sk-container-id-14 div.sk-toggleable__content pre {margin: 0.2em;color: black;border-radius: 0.25em;background-color: #f0f8ff;}#sk-container-id-14 input.sk-toggleable__control:checked~div.sk-toggleable__content {max-height: 200px;max-width: 100%;overflow: auto;}#sk-container-id-14 input.sk-toggleable__control:checked~label.sk-toggleable__label-arrow:before {content: \"▾\";}#sk-container-id-14 div.sk-estimator input.sk-toggleable__control:checked~label.sk-toggleable__label {background-color: #d4ebff;}#sk-container-id-14 div.sk-label input.sk-toggleable__control:checked~label.sk-toggleable__label {background-color: #d4ebff;}#sk-container-id-14 input.sk-hidden--visually {border: 0;clip: rect(1px 1px 1px 1px);clip: rect(1px, 1px, 1px, 1px);height: 1px;margin: -1px;overflow: hidden;padding: 0;position: absolute;width: 1px;}#sk-container-id-14 div.sk-estimator {font-family: monospace;background-color: #f0f8ff;border: 1px dotted black;border-radius: 0.25em;box-sizing: border-box;margin-bottom: 0.5em;}#sk-container-id-14 div.sk-estimator:hover {background-color: #d4ebff;}#sk-container-id-14 div.sk-parallel-item::after {content: \"\";width: 100%;border-bottom: 1px solid gray;flex-grow: 1;}#sk-container-id-14 div.sk-label:hover label.sk-toggleable__label {background-color: #d4ebff;}#sk-container-id-14 div.sk-serial::before {content: \"\";position: absolute;border-left: 1px solid gray;box-sizing: border-box;top: 0;bottom: 0;left: 50%;z-index: 0;}#sk-container-id-14 div.sk-serial {display: flex;flex-direction: column;align-items: center;background-color: white;padding-right: 0.2em;padding-left: 0.2em;position: relative;}#sk-container-id-14 div.sk-item {position: relative;z-index: 1;}#sk-container-id-14 div.sk-parallel {display: flex;align-items: stretch;justify-content: center;background-color: white;position: relative;}#sk-container-id-14 div.sk-item::before, #sk-container-id-14 div.sk-parallel-item::before {content: \"\";position: absolute;border-left: 1px solid gray;box-sizing: border-box;top: 0;bottom: 0;left: 50%;z-index: -1;}#sk-container-id-14 div.sk-parallel-item {display: flex;flex-direction: column;z-index: 1;position: relative;background-color: white;}#sk-container-id-14 div.sk-parallel-item:first-child::after {align-self: flex-end;width: 50%;}#sk-container-id-14 div.sk-parallel-item:last-child::after {align-self: flex-start;width: 50%;}#sk-container-id-14 div.sk-parallel-item:only-child::after {width: 0;}#sk-container-id-14 div.sk-dashed-wrapped {border: 1px dashed gray;margin: 0 0.4em 0.5em 0.4em;box-sizing: border-box;padding-bottom: 0.4em;background-color: white;}#sk-container-id-14 div.sk-label label {font-family: monospace;font-weight: bold;display: inline-block;line-height: 1.2em;}#sk-container-id-14 div.sk-label-container {text-align: center;}#sk-container-id-14 div.sk-container {/* jupyter's `normalize.less` sets `[hidden] { display: none; }` but bootstrap.min.css set `[hidden] { display: none !important; }` so we also need the `!important` here to be able to override the default hidden behavior on the sphinx rendered scikit-learn.org. See: https://github.com/scikit-learn/scikit-learn/issues/21755 */display: inline-block !important;position: relative;}#sk-container-id-14 div.sk-text-repr-fallback {display: none;}</style><div id=\"sk-container-id-14\" class=\"sk-top-container\"><div class=\"sk-text-repr-fallback\"><pre>RandomizedSearchCV(cv=KFold(n_splits=5, random_state=1, shuffle=True),\n",
       "                   estimator=Pipeline(steps=[(&#x27;scaler&#x27;, StandardScaler()),\n",
       "                                             (&#x27;model&#x27;,\n",
       "                                              XGBRegressor(base_score=None,\n",
       "                                                           booster=None,\n",
       "                                                           callbacks=None,\n",
       "                                                           colsample_bylevel=None,\n",
       "                                                           colsample_bynode=None,\n",
       "                                                           colsample_bytree=None,\n",
       "                                                           device=None,\n",
       "                                                           early_stopping_rounds=None,\n",
       "                                                           enable_categorical=False,\n",
       "                                                           eval_metric=None,\n",
       "                                                           feature_types=...\n",
       "                                                             0.007742636826811269,\n",
       "                                                             0.021544346900318832,\n",
       "                                                             0.05994842503189409,\n",
       "                                                             0.1668100537200059,\n",
       "                                                             0.46415888336127775,\n",
       "                                                             1.2915496650148828,\n",
       "                                                             3.593813663804626,\n",
       "                                                             10.0],\n",
       "                                        &#x27;model__subsample&#x27;: [0.2, 0.3, 0.4, 0.5,\n",
       "                                                             0.6, 0.7, 0.8,\n",
       "                                                             0.9]},\n",
       "                   random_state=1, refit=&#x27;neg_root_mean_squared_error&#x27;,\n",
       "                   scoring=[&#x27;neg_root_mean_squared_error&#x27;,\n",
       "                            &#x27;neg_mean_absolute_error&#x27;,\n",
       "                            &#x27;neg_mean_absolute_percentage_error&#x27;])</pre><b>In a Jupyter environment, please rerun this cell to show the HTML representation or trust the notebook. <br />On GitHub, the HTML representation is unable to render, please try loading this page with nbviewer.org.</b></div><div class=\"sk-container\" hidden><div class=\"sk-item sk-dashed-wrapped\"><div class=\"sk-label-container\"><div class=\"sk-label sk-toggleable\"><input class=\"sk-toggleable__control sk-hidden--visually\" id=\"sk-estimator-id-53\" type=\"checkbox\" ><label for=\"sk-estimator-id-53\" class=\"sk-toggleable__label sk-toggleable__label-arrow\">RandomizedSearchCV</label><div class=\"sk-toggleable__content\"><pre>RandomizedSearchCV(cv=KFold(n_splits=5, random_state=1, shuffle=True),\n",
       "                   estimator=Pipeline(steps=[(&#x27;scaler&#x27;, StandardScaler()),\n",
       "                                             (&#x27;model&#x27;,\n",
       "                                              XGBRegressor(base_score=None,\n",
       "                                                           booster=None,\n",
       "                                                           callbacks=None,\n",
       "                                                           colsample_bylevel=None,\n",
       "                                                           colsample_bynode=None,\n",
       "                                                           colsample_bytree=None,\n",
       "                                                           device=None,\n",
       "                                                           early_stopping_rounds=None,\n",
       "                                                           enable_categorical=False,\n",
       "                                                           eval_metric=None,\n",
       "                                                           feature_types=...\n",
       "                                                             0.007742636826811269,\n",
       "                                                             0.021544346900318832,\n",
       "                                                             0.05994842503189409,\n",
       "                                                             0.1668100537200059,\n",
       "                                                             0.46415888336127775,\n",
       "                                                             1.2915496650148828,\n",
       "                                                             3.593813663804626,\n",
       "                                                             10.0],\n",
       "                                        &#x27;model__subsample&#x27;: [0.2, 0.3, 0.4, 0.5,\n",
       "                                                             0.6, 0.7, 0.8,\n",
       "                                                             0.9]},\n",
       "                   random_state=1, refit=&#x27;neg_root_mean_squared_error&#x27;,\n",
       "                   scoring=[&#x27;neg_root_mean_squared_error&#x27;,\n",
       "                            &#x27;neg_mean_absolute_error&#x27;,\n",
       "                            &#x27;neg_mean_absolute_percentage_error&#x27;])</pre></div></div></div><div class=\"sk-parallel\"><div class=\"sk-parallel-item\"><div class=\"sk-item\"><div class=\"sk-label-container\"><div class=\"sk-label sk-toggleable\"><input class=\"sk-toggleable__control sk-hidden--visually\" id=\"sk-estimator-id-54\" type=\"checkbox\" ><label for=\"sk-estimator-id-54\" class=\"sk-toggleable__label sk-toggleable__label-arrow\">estimator: Pipeline</label><div class=\"sk-toggleable__content\"><pre>Pipeline(steps=[(&#x27;scaler&#x27;, StandardScaler()),\n",
       "                (&#x27;model&#x27;,\n",
       "                 XGBRegressor(base_score=None, booster=None, callbacks=None,\n",
       "                              colsample_bylevel=None, colsample_bynode=None,\n",
       "                              colsample_bytree=None, device=None,\n",
       "                              early_stopping_rounds=None,\n",
       "                              enable_categorical=False, eval_metric=None,\n",
       "                              feature_types=None, gamma=None, grow_policy=None,\n",
       "                              importance_type=None,\n",
       "                              interaction_constraints=None, learning_rate=None,\n",
       "                              max_bin=None, max_cat_threshold=None,\n",
       "                              max_cat_to_onehot=None, max_delta_step=None,\n",
       "                              max_depth=None, max_leaves=None,\n",
       "                              min_child_weight=None, missing=nan,\n",
       "                              monotone_constraints=None, multi_strategy=None,\n",
       "                              n_estimators=None, n_jobs=None,\n",
       "                              num_parallel_tree=None, random_state=1, ...))])</pre></div></div></div><div class=\"sk-serial\"><div class=\"sk-item\"><div class=\"sk-serial\"><div class=\"sk-item\"><div class=\"sk-estimator sk-toggleable\"><input class=\"sk-toggleable__control sk-hidden--visually\" id=\"sk-estimator-id-55\" type=\"checkbox\" ><label for=\"sk-estimator-id-55\" class=\"sk-toggleable__label sk-toggleable__label-arrow\">StandardScaler</label><div class=\"sk-toggleable__content\"><pre>StandardScaler()</pre></div></div></div><div class=\"sk-item\"><div class=\"sk-estimator sk-toggleable\"><input class=\"sk-toggleable__control sk-hidden--visually\" id=\"sk-estimator-id-56\" type=\"checkbox\" ><label for=\"sk-estimator-id-56\" class=\"sk-toggleable__label sk-toggleable__label-arrow\">XGBRegressor</label><div class=\"sk-toggleable__content\"><pre>XGBRegressor(base_score=None, booster=None, callbacks=None,\n",
       "             colsample_bylevel=None, colsample_bynode=None,\n",
       "             colsample_bytree=None, device=None, early_stopping_rounds=None,\n",
       "             enable_categorical=False, eval_metric=None, feature_types=None,\n",
       "             gamma=None, grow_policy=None, importance_type=None,\n",
       "             interaction_constraints=None, learning_rate=None, max_bin=None,\n",
       "             max_cat_threshold=None, max_cat_to_onehot=None,\n",
       "             max_delta_step=None, max_depth=None, max_leaves=None,\n",
       "             min_child_weight=None, missing=nan, monotone_constraints=None,\n",
       "             multi_strategy=None, n_estimators=None, n_jobs=None,\n",
       "             num_parallel_tree=None, random_state=1, ...)</pre></div></div></div></div></div></div></div></div></div></div></div></div>"
      ],
      "text/plain": [
       "RandomizedSearchCV(cv=KFold(n_splits=5, random_state=1, shuffle=True),\n",
       "                   estimator=Pipeline(steps=[('scaler', StandardScaler()),\n",
       "                                             ('model',\n",
       "                                              XGBRegressor(base_score=None,\n",
       "                                                           booster=None,\n",
       "                                                           callbacks=None,\n",
       "                                                           colsample_bylevel=None,\n",
       "                                                           colsample_bynode=None,\n",
       "                                                           colsample_bytree=None,\n",
       "                                                           device=None,\n",
       "                                                           early_stopping_rounds=None,\n",
       "                                                           enable_categorical=False,\n",
       "                                                           eval_metric=None,\n",
       "                                                           feature_types=...\n",
       "                                                             0.007742636826811269,\n",
       "                                                             0.021544346900318832,\n",
       "                                                             0.05994842503189409,\n",
       "                                                             0.1668100537200059,\n",
       "                                                             0.46415888336127775,\n",
       "                                                             1.2915496650148828,\n",
       "                                                             3.593813663804626,\n",
       "                                                             10.0],\n",
       "                                        'model__subsample': [0.2, 0.3, 0.4, 0.5,\n",
       "                                                             0.6, 0.7, 0.8,\n",
       "                                                             0.9]},\n",
       "                   random_state=1, refit='neg_root_mean_squared_error',\n",
       "                   scoring=['neg_root_mean_squared_error',\n",
       "                            'neg_mean_absolute_error',\n",
       "                            'neg_mean_absolute_percentage_error'])"
      ]
     },
     "execution_count": 974,
     "metadata": {},
     "output_type": "execute_result"
    }
   ],
   "source": [
    "# Fitting data training untuk mencari parameter terbaik\n",
    "random_xgb.fit(X_train, y_train)"
   ]
  },
  {
   "cell_type": "code",
   "execution_count": 975,
   "metadata": {
    "id": "7i1Dfnj5k-Bb",
    "outputId": "839117b8-b9e3-43ef-8b93-eb71c7d011ee"
   },
   "outputs": [
    {
     "data": {
      "text/html": [
       "<div>\n",
       "<style scoped>\n",
       "    .dataframe tbody tr th:only-of-type {\n",
       "        vertical-align: middle;\n",
       "    }\n",
       "\n",
       "    .dataframe tbody tr th {\n",
       "        vertical-align: top;\n",
       "    }\n",
       "\n",
       "    .dataframe thead th {\n",
       "        text-align: right;\n",
       "    }\n",
       "</style>\n",
       "<table border=\"1\" class=\"dataframe\">\n",
       "  <thead>\n",
       "    <tr style=\"text-align: right;\">\n",
       "      <th></th>\n",
       "      <th>mean_fit_time</th>\n",
       "      <th>std_fit_time</th>\n",
       "      <th>mean_score_time</th>\n",
       "      <th>std_score_time</th>\n",
       "      <th>param_model__subsample</th>\n",
       "      <th>param_model__reg_alpha</th>\n",
       "      <th>param_model__n_estimators</th>\n",
       "      <th>param_model__max_depth</th>\n",
       "      <th>param_model__learning_rate</th>\n",
       "      <th>param_model__gamma</th>\n",
       "      <th>...</th>\n",
       "      <th>std_test_neg_mean_absolute_error</th>\n",
       "      <th>rank_test_neg_mean_absolute_error</th>\n",
       "      <th>split0_test_neg_mean_absolute_percentage_error</th>\n",
       "      <th>split1_test_neg_mean_absolute_percentage_error</th>\n",
       "      <th>split2_test_neg_mean_absolute_percentage_error</th>\n",
       "      <th>split3_test_neg_mean_absolute_percentage_error</th>\n",
       "      <th>split4_test_neg_mean_absolute_percentage_error</th>\n",
       "      <th>mean_test_neg_mean_absolute_percentage_error</th>\n",
       "      <th>std_test_neg_mean_absolute_percentage_error</th>\n",
       "      <th>rank_test_neg_mean_absolute_percentage_error</th>\n",
       "    </tr>\n",
       "  </thead>\n",
       "  <tbody>\n",
       "    <tr>\n",
       "      <th>7</th>\n",
       "      <td>0.270791</td>\n",
       "      <td>0.019046</td>\n",
       "      <td>0.010872</td>\n",
       "      <td>0.000917</td>\n",
       "      <td>0.9</td>\n",
       "      <td>0.059948</td>\n",
       "      <td>119</td>\n",
       "      <td>8</td>\n",
       "      <td>0.05</td>\n",
       "      <td>5</td>\n",
       "      <td>...</td>\n",
       "      <td>0.601081</td>\n",
       "      <td>1</td>\n",
       "      <td>-0.585317</td>\n",
       "      <td>-0.575202</td>\n",
       "      <td>-0.639165</td>\n",
       "      <td>-0.571146</td>\n",
       "      <td>-0.577251</td>\n",
       "      <td>-0.589616</td>\n",
       "      <td>0.025201</td>\n",
       "      <td>2</td>\n",
       "    </tr>\n",
       "    <tr>\n",
       "      <th>20</th>\n",
       "      <td>0.119488</td>\n",
       "      <td>0.010951</td>\n",
       "      <td>0.006782</td>\n",
       "      <td>0.001163</td>\n",
       "      <td>0.9</td>\n",
       "      <td>0.007743</td>\n",
       "      <td>143</td>\n",
       "      <td>4</td>\n",
       "      <td>0.38</td>\n",
       "      <td>6</td>\n",
       "      <td>...</td>\n",
       "      <td>0.491080</td>\n",
       "      <td>3</td>\n",
       "      <td>-0.731236</td>\n",
       "      <td>-0.719492</td>\n",
       "      <td>-0.685699</td>\n",
       "      <td>-0.669808</td>\n",
       "      <td>-0.653838</td>\n",
       "      <td>-0.692015</td>\n",
       "      <td>0.029270</td>\n",
       "      <td>3</td>\n",
       "    </tr>\n",
       "    <tr>\n",
       "      <th>17</th>\n",
       "      <td>0.187298</td>\n",
       "      <td>0.010041</td>\n",
       "      <td>0.007580</td>\n",
       "      <td>0.000798</td>\n",
       "      <td>0.6</td>\n",
       "      <td>0.001</td>\n",
       "      <td>190</td>\n",
       "      <td>5</td>\n",
       "      <td>0.04</td>\n",
       "      <td>9</td>\n",
       "      <td>...</td>\n",
       "      <td>0.720720</td>\n",
       "      <td>2</td>\n",
       "      <td>-0.570138</td>\n",
       "      <td>-0.577879</td>\n",
       "      <td>-0.599892</td>\n",
       "      <td>-0.572377</td>\n",
       "      <td>-0.546841</td>\n",
       "      <td>-0.573425</td>\n",
       "      <td>0.016965</td>\n",
       "      <td>1</td>\n",
       "    </tr>\n",
       "    <tr>\n",
       "      <th>43</th>\n",
       "      <td>0.180318</td>\n",
       "      <td>0.016931</td>\n",
       "      <td>0.007380</td>\n",
       "      <td>0.000488</td>\n",
       "      <td>0.5</td>\n",
       "      <td>0.16681</td>\n",
       "      <td>172</td>\n",
       "      <td>5</td>\n",
       "      <td>0.31</td>\n",
       "      <td>7</td>\n",
       "      <td>...</td>\n",
       "      <td>0.742749</td>\n",
       "      <td>4</td>\n",
       "      <td>-0.715005</td>\n",
       "      <td>-0.756926</td>\n",
       "      <td>-0.710306</td>\n",
       "      <td>-0.736814</td>\n",
       "      <td>-0.725809</td>\n",
       "      <td>-0.728972</td>\n",
       "      <td>0.016712</td>\n",
       "      <td>4</td>\n",
       "    </tr>\n",
       "    <tr>\n",
       "      <th>8</th>\n",
       "      <td>0.228290</td>\n",
       "      <td>0.026879</td>\n",
       "      <td>0.008976</td>\n",
       "      <td>0.000631</td>\n",
       "      <td>0.7</td>\n",
       "      <td>0.021544</td>\n",
       "      <td>182</td>\n",
       "      <td>6</td>\n",
       "      <td>0.31</td>\n",
       "      <td>2</td>\n",
       "      <td>...</td>\n",
       "      <td>0.755067</td>\n",
       "      <td>5</td>\n",
       "      <td>-0.756768</td>\n",
       "      <td>-0.776525</td>\n",
       "      <td>-0.789957</td>\n",
       "      <td>-0.783344</td>\n",
       "      <td>-0.745027</td>\n",
       "      <td>-0.770324</td>\n",
       "      <td>0.016835</td>\n",
       "      <td>5</td>\n",
       "    </tr>\n",
       "  </tbody>\n",
       "</table>\n",
       "<p>5 rows × 36 columns</p>\n",
       "</div>"
      ],
      "text/plain": [
       "    mean_fit_time  std_fit_time  mean_score_time  std_score_time  \\\n",
       "7        0.270791      0.019046         0.010872        0.000917   \n",
       "20       0.119488      0.010951         0.006782        0.001163   \n",
       "17       0.187298      0.010041         0.007580        0.000798   \n",
       "43       0.180318      0.016931         0.007380        0.000488   \n",
       "8        0.228290      0.026879         0.008976        0.000631   \n",
       "\n",
       "   param_model__subsample param_model__reg_alpha param_model__n_estimators  \\\n",
       "7                     0.9               0.059948                       119   \n",
       "20                    0.9               0.007743                       143   \n",
       "17                    0.6                  0.001                       190   \n",
       "43                    0.5                0.16681                       172   \n",
       "8                     0.7               0.021544                       182   \n",
       "\n",
       "   param_model__max_depth param_model__learning_rate param_model__gamma  ...  \\\n",
       "7                       8                       0.05                  5  ...   \n",
       "20                      4                       0.38                  6  ...   \n",
       "17                      5                       0.04                  9  ...   \n",
       "43                      5                       0.31                  7  ...   \n",
       "8                       6                       0.31                  2  ...   \n",
       "\n",
       "   std_test_neg_mean_absolute_error rank_test_neg_mean_absolute_error  \\\n",
       "7                          0.601081                                 1   \n",
       "20                         0.491080                                 3   \n",
       "17                         0.720720                                 2   \n",
       "43                         0.742749                                 4   \n",
       "8                          0.755067                                 5   \n",
       "\n",
       "    split0_test_neg_mean_absolute_percentage_error  \\\n",
       "7                                        -0.585317   \n",
       "20                                       -0.731236   \n",
       "17                                       -0.570138   \n",
       "43                                       -0.715005   \n",
       "8                                        -0.756768   \n",
       "\n",
       "    split1_test_neg_mean_absolute_percentage_error  \\\n",
       "7                                        -0.575202   \n",
       "20                                       -0.719492   \n",
       "17                                       -0.577879   \n",
       "43                                       -0.756926   \n",
       "8                                        -0.776525   \n",
       "\n",
       "    split2_test_neg_mean_absolute_percentage_error  \\\n",
       "7                                        -0.639165   \n",
       "20                                       -0.685699   \n",
       "17                                       -0.599892   \n",
       "43                                       -0.710306   \n",
       "8                                        -0.789957   \n",
       "\n",
       "    split3_test_neg_mean_absolute_percentage_error  \\\n",
       "7                                        -0.571146   \n",
       "20                                       -0.669808   \n",
       "17                                       -0.572377   \n",
       "43                                       -0.736814   \n",
       "8                                        -0.783344   \n",
       "\n",
       "    split4_test_neg_mean_absolute_percentage_error  \\\n",
       "7                                        -0.577251   \n",
       "20                                       -0.653838   \n",
       "17                                       -0.546841   \n",
       "43                                       -0.725809   \n",
       "8                                        -0.745027   \n",
       "\n",
       "    mean_test_neg_mean_absolute_percentage_error  \\\n",
       "7                                      -0.589616   \n",
       "20                                     -0.692015   \n",
       "17                                     -0.573425   \n",
       "43                                     -0.728972   \n",
       "8                                      -0.770324   \n",
       "\n",
       "    std_test_neg_mean_absolute_percentage_error  \\\n",
       "7                                      0.025201   \n",
       "20                                     0.029270   \n",
       "17                                     0.016965   \n",
       "43                                     0.016712   \n",
       "8                                      0.016835   \n",
       "\n",
       "    rank_test_neg_mean_absolute_percentage_error  \n",
       "7                                              2  \n",
       "20                                             3  \n",
       "17                                             1  \n",
       "43                                             4  \n",
       "8                                              5  \n",
       "\n",
       "[5 rows x 36 columns]"
      ]
     },
     "execution_count": 975,
     "metadata": {},
     "output_type": "execute_result"
    }
   ],
   "source": [
    "# Melihat hasil tuning dalam bentuk dataframe. Diurutkan berdasarkan RMSE, MAE & MAPE\n",
    "pd.DataFrame(random_xgb.cv_results_).sort_values(by=['rank_test_neg_root_mean_squared_error', 'rank_test_neg_mean_absolute_error', 'rank_test_neg_mean_absolute_percentage_error']).head()"
   ]
  },
  {
   "cell_type": "code",
   "execution_count": 997,
   "metadata": {
    "id": "nHdpQuonk-Bc",
    "outputId": "bd2e54e4-880c-4680-85e9-74273188cf71"
   },
   "outputs": [
    {
     "name": "stdout",
     "output_type": "stream",
     "text": [
      "XGBoost\n",
      "Best_score: -36.80167211404586\n",
      "Best_params: {'model__subsample': 0.9, 'model__reg_alpha': 0.05994842503189409, 'model__n_estimators': 119, 'model__max_depth': 8, 'model__learning_rate': 0.05, 'model__gamma': 5, 'model__colsample_bytree': 0.8}\n"
     ]
    }
   ],
   "source": [
    "# Cek skor dan params terbaik\n",
    "print('XGBoost')\n",
    "print('Best_score:', random_xgb.best_score_)\n",
    "print('Best_params:', random_xgb.best_params_)"
   ]
  },
  {
   "cell_type": "markdown",
   "metadata": {
    "id": "DANt1Sbsk-Bc"
   },
   "source": [
    "**Predict to Test Set with the Tuned Model**\n",
    "\n",
    "Melakukan prediksi pada test set dengan menggunakan model XGBoost dan hyperparameter terpilih."
   ]
  },
  {
   "cell_type": "code",
   "execution_count": 977,
   "metadata": {
    "id": "HHwFYcCPk-Bc",
    "outputId": "abe07443-4cf4-47d1-ed7d-a23676f038c6"
   },
   "outputs": [
    {
     "data": {
      "text/html": [
       "<div>\n",
       "<style scoped>\n",
       "    .dataframe tbody tr th:only-of-type {\n",
       "        vertical-align: middle;\n",
       "    }\n",
       "\n",
       "    .dataframe tbody tr th {\n",
       "        vertical-align: top;\n",
       "    }\n",
       "\n",
       "    .dataframe thead th {\n",
       "        text-align: right;\n",
       "    }\n",
       "</style>\n",
       "<table border=\"1\" class=\"dataframe\">\n",
       "  <thead>\n",
       "    <tr style=\"text-align: right;\">\n",
       "      <th></th>\n",
       "      <th>RMSE</th>\n",
       "      <th>MAE</th>\n",
       "      <th>MAPE</th>\n",
       "    </tr>\n",
       "  </thead>\n",
       "  <tbody>\n",
       "    <tr>\n",
       "      <th>XGB</th>\n",
       "      <td>34.907984</td>\n",
       "      <td>24.787123</td>\n",
       "      <td>0.552538</td>\n",
       "    </tr>\n",
       "  </tbody>\n",
       "</table>\n",
       "</div>"
      ],
      "text/plain": [
       "          RMSE        MAE      MAPE\n",
       "XGB  34.907984  24.787123  0.552538"
      ]
     },
     "execution_count": 977,
     "metadata": {},
     "output_type": "execute_result"
    }
   ],
   "source": [
    "# Model XGBoost\n",
    "model = {'XGB': XGBRegressor(random_state=1)}\n",
    "\n",
    "# Define model terhadap estimator terbaik\n",
    "xgb_tuning = random_xgb.best_estimator_\n",
    "\n",
    "# Fitting model\n",
    "xgb_tuning.fit(X_train, y_train)\n",
    "\n",
    "# Predict test set\n",
    "y_pred_xgb_tuning = xgb_tuning.predict(X_test)\n",
    "\n",
    "# Simpan nilai metrics RMSE, MAE & MAPE setelah tuning\n",
    "rmse_xgb_tuning = np.sqrt(mean_squared_error(y_test, y_pred_xgb_tuning))\n",
    "mae_xgb_tuning = mean_absolute_error(y_test, y_pred_xgb_tuning)\n",
    "mape_xgb_tuning = mean_absolute_percentage_error(y_test, y_pred_xgb_tuning)\n",
    "\n",
    "score_after_tuning = pd.DataFrame({'RMSE': rmse_xgb_tuning, 'MAE': mae_xgb_tuning, 'MAPE': mape_xgb_tuning}, index=model.keys())\n",
    "score_after_tuning"
   ]
  },
  {
   "cell_type": "markdown",
   "metadata": {
    "id": "Z2SdwEqjk-Bc"
   },
   "source": [
    "**Performance Comparison**\n",
    "\n",
    "Perbandingan performa model XGBoost sebelum dan sesudah dilakukan hyperparameter tuning."
   ]
  },
  {
   "cell_type": "code",
   "execution_count": 978,
   "metadata": {
    "id": "A7DAOe9ck-Bc",
    "outputId": "bc8d284f-7773-4345-9cc2-1f4fb28f76f4"
   },
   "outputs": [
    {
     "data": {
      "text/html": [
       "<div>\n",
       "<style scoped>\n",
       "    .dataframe tbody tr th:only-of-type {\n",
       "        vertical-align: middle;\n",
       "    }\n",
       "\n",
       "    .dataframe tbody tr th {\n",
       "        vertical-align: top;\n",
       "    }\n",
       "\n",
       "    .dataframe thead th {\n",
       "        text-align: right;\n",
       "    }\n",
       "</style>\n",
       "<table border=\"1\" class=\"dataframe\">\n",
       "  <thead>\n",
       "    <tr style=\"text-align: right;\">\n",
       "      <th></th>\n",
       "      <th>RMSE</th>\n",
       "      <th>MAE</th>\n",
       "      <th>MAPE</th>\n",
       "    </tr>\n",
       "  </thead>\n",
       "  <tbody>\n",
       "    <tr>\n",
       "      <th>XGB</th>\n",
       "      <td>34.749719</td>\n",
       "      <td>24.279478</td>\n",
       "      <td>0.529842</td>\n",
       "    </tr>\n",
       "  </tbody>\n",
       "</table>\n",
       "</div>"
      ],
      "text/plain": [
       "          RMSE        MAE      MAPE\n",
       "XGB  34.749719  24.279478  0.529842"
      ]
     },
     "execution_count": 978,
     "metadata": {},
     "output_type": "execute_result"
    }
   ],
   "source": [
    "# Sebelum hyperparameter tuning\n",
    "pd.DataFrame(score_before_tuning.loc['XGB']).T"
   ]
  },
  {
   "cell_type": "code",
   "execution_count": 979,
   "metadata": {
    "id": "ApnbXY18k-Bd",
    "outputId": "4a5d5571-9e1e-4d07-ef33-7f4a54e702ef"
   },
   "outputs": [
    {
     "data": {
      "text/html": [
       "<div>\n",
       "<style scoped>\n",
       "    .dataframe tbody tr th:only-of-type {\n",
       "        vertical-align: middle;\n",
       "    }\n",
       "\n",
       "    .dataframe tbody tr th {\n",
       "        vertical-align: top;\n",
       "    }\n",
       "\n",
       "    .dataframe thead th {\n",
       "        text-align: right;\n",
       "    }\n",
       "</style>\n",
       "<table border=\"1\" class=\"dataframe\">\n",
       "  <thead>\n",
       "    <tr style=\"text-align: right;\">\n",
       "      <th></th>\n",
       "      <th>RMSE</th>\n",
       "      <th>MAE</th>\n",
       "      <th>MAPE</th>\n",
       "    </tr>\n",
       "  </thead>\n",
       "  <tbody>\n",
       "    <tr>\n",
       "      <th>XGB</th>\n",
       "      <td>34.907984</td>\n",
       "      <td>24.787123</td>\n",
       "      <td>0.552538</td>\n",
       "    </tr>\n",
       "  </tbody>\n",
       "</table>\n",
       "</div>"
      ],
      "text/plain": [
       "          RMSE        MAE      MAPE\n",
       "XGB  34.907984  24.787123  0.552538"
      ]
     },
     "execution_count": 979,
     "metadata": {},
     "output_type": "execute_result"
    }
   ],
   "source": [
    "# Setelah hyperparameter tuning\n",
    "score_after_tuning"
   ]
  },
  {
   "cell_type": "markdown",
   "metadata": {
    "id": "B_RMuomak-Bd"
   },
   "source": [
    "Model mengalami peningkatan performa (nilai RMSE, MAE & MAPE berkurang) dengan dilakukannya hyperparameter tuning, walaupun hanya sedikit.\n",
    "- RMSE, MAE & MAPE sebelum tuning: 34.60, 24.50, 0.53\n",
    "- RMSE, MAE & MAPE setelah tuning: 34.72, 24.77, 0.53"
   ]
  },
  {
   "cell_type": "code",
   "execution_count": 986,
   "metadata": {
    "id": "cTSAiM4ek-Bd",
    "outputId": "f979d25e-efc6-4049-bd64-bcf516eed183"
   },
   "outputs": [
    {
     "data": {
      "image/png": "[encoded data removed]",
      "text/plain": [
       "<Figure size 1400x800 with 1 Axes>"
      ]
     },
     "metadata": {},
     "output_type": "display_data"
    }
   ],
   "source": [
    "plt.figure(figsize=(14, 8))\n",
    "plot = sns.scatterplot(x=y_test, y=y_pred_xgb_tuning).set(title='Actual vs. Prediction Cnt', \n",
    "                                               xlabel='Actual Cnt', \n",
    "                                               ylabel='Predicted Cnt')"
   ]
  },
  {
   "cell_type": "markdown",
   "metadata": {
    "id": "3TvcQ2ovk-Bd"
   },
   "source": [
    "Adanya nilai-nilai error yang besar membuat perbedaan yang cukup signifikan antara nilai RMSE dan MAE. Hal ini dapat tergambarkan pula pada plot di atas, di mana terdapat cnt aktual yang rendah tapi diprediksi jauh lebih tinggi (overestimation), dan juga sebaliknya (underestimation). Akan tetapi, nilai MAPE yang didapat, yaitu sekitar 54% menjadikan model ini dapat dikategorikan ke dalam 'reasonable forecasting' (Lewis, 1982).\n",
    "\n",
    "*Source: Lewis, C. D. (1982). Industrial and business forecasting methods: A practical guide to exponential smoothing and curve fitting*"
   ]
  },
  {
   "cell_type": "markdown",
   "metadata": {
    "id": "KWpMoDRSk-Be"
   },
   "source": [
    "**Feature Importances**"
   ]
  },
  {
   "cell_type": "markdown",
   "metadata": {
    "id": "owo68LeQk-Be"
   },
   "source": [
    "Untuk dapat mengetahui sebenarnya fitur apa saja yang sangat memengaruhi target (cnt), kita dapat mengeceknya melalui function feature_importances_"
   ]
  },
  {
   "cell_type": "code",
   "execution_count": 981,
   "metadata": {
    "id": "789rPppwk-Be",
    "outputId": "b5d5ff75-9922-436b-afcc-cf67625a4381"
   },
   "outputs": [
    {
     "data": {
      "image/png": "[encoded data removed]",
      "text/plain": [
       "<Figure size 1000x600 with 1 Axes>"
      ]
     },
     "metadata": {},
     "output_type": "display_data"
    }
   ],
   "source": [
    "# Misalkan 'X_train' adalah DataFrame yang digunakan untuk melatih model\n",
    "feature_names = X_train.columns\n",
    "\n",
    "# Mendapatkan feature importances dari model XGB yang sudah dilatih\n",
    "xgb_model = xgb_tuning['model']  # pastikan model sudah dilatih\n",
    "feature_importances = xgb_model.feature_importances_\n",
    "\n",
    "# Membuat Series untuk feature importances\n",
    "feature_imp = pd.Series(feature_importances, index=feature_names).sort_values(ascending=False).head()\n",
    "\n",
    "# Plotting feature importances\n",
    "plt.figure(figsize=(10, 6))\n",
    "sns.barplot(x=feature_imp.values, y=feature_imp.index)\n",
    "plt.title('Feature Importances')\n",
    "plt.xlabel('Importance Score')\n",
    "plt.ylabel('Features')\n",
    "plt.show()"
   ]
  },
  {
   "cell_type": "markdown",
   "metadata": {
    "id": "owQjtcI2k-Be"
   },
   "source": [
    "### **Conclusion**"
   ]
  },
  {
   "cell_type": "markdown",
   "metadata": {
    "id": "5GSM-ypZk-Be"
   },
   "source": [
    "Berdasarkan pemodelan yang sudah dilakukan, fitur 'hr' disusul dengan weatherlist, week, season dan atemp menjadi fitur yang paling berpengaruh terhadap 'cnt'.\n",
    "\n",
    " Metrik evaluasi yang digunakan pada model adalah nilai RMSE, MAE & MAPE. Jika ditinjau dari nilai MAPE yang dihasilkan oleh model setelah dilakukan hyperparameter tuning, yaitu sebesar ~53%, kita dapat menyimpulkan bahwa bila nanti model yang kita buat ini digunakan untuk memperkirakan jumlah sepeda di New York City pada rentang nilai seperti yang dilatih terhadap model (maksimal jumlah 282), maka perkiraan jumlah sepeda akan meleset kurang lebih sebesar 53% dari julah sepeda seharusnya. \n",
    " \n",
    " Tetapi, tidak menutup kemungkinan juga prediksinya meleset lebih jauh karena bias yang dihasilkan model masih cukup tinggi bila dilihat dari visualisasi antara cnt aktual dan prediksi. Bias yang dihasilkan oleh model ini dikarenakan oleh terbatasnya fitur pada dataset kalini.\n",
    "\n",
    " Model ini tentu masih dapat diimporvisasi agar dapat menghasilkan prediksi yang lebih baik lagi. Namun, kita dapat melakukan A/B testing terhadap model yang sudah dibuat pada project ini untuk mengetahui tingkat efektifitas penggunaan model terhadap peningkatan jumlah sewa sepeda. Nantinya, dari hasil A/B testing, kita bisa mendapatkan insight lainnya terkait perihal yang bisa dan harus diperbaiki pada model.  "
   ]
  },
  {
   "cell_type": "markdown",
   "metadata": {
    "id": "UYNCk1Tvk-Be"
   },
   "source": [
    "### **Recommendations**"
   ]
  },
  {
   "cell_type": "markdown",
   "metadata": {
    "id": "ghhnOuYyk-Bf"
   },
   "source": [
    "    Lakukan A/B testing untuk menguji tingkat efektivitas model terhadap lakunya jumlah sepeda jika dibandingkan dengan pemilik sepeda yang menentukan jumlah sepedanya sendiri.\n",
    "\n",
    "Lalu, hal-hal yang dapat dilakukan untuk mengembangkan model agar lebih baik lagi, seperti:\n",
    "\n",
    "1. Mengecek prediksi mana saja yang memiliki nilai error yang tinggi. Kita dapat mengelompokkan error tersebut ke dalam grup overestimation dan underestimation, lalu memilih 5% error paling ekstrim saja untuk tiap grup. Nantinya pengelompokkan akan menjadi 3 grup, yaitu overestimation (5%), underestimation (5%), dan grup mayoritas yang error-nya mendekati nilai mean (90%). Setelahnya kita bisa mengecek hubungan antara error tersebut dengan tiap variabel independen. Pada akhirnya kita dapat mengetahui sebenarnya variabel mana saja dan aspek apa yang menyebabkan model menghasilkan error yang tinggi, sehingga kita bisa melakukan training ulang dengan penerapan feature engineering lainnya.\n",
    "<br><br>   \n",
    "1. Jika memungkinkan, penambahan fitur yang lebih korelatif dengan target ('cnt'), seperti lokasi tempat penyewaan. Selain itu, adanya penambahan data terkini untuk bike sharing tentu akan dapat mengimprovisasi kapasitas prediksi dari model.\n",
    "<br><br>   \n",
    "3. Jika ada penambahan banyak data, dapat dicoba dengan menggunakan model yang lebih kompleks, seperti recursive neural networks (RNN). Namun, kalau jumlah data dan fiturnya masih seperti dataset ini, kemungkinan besar tidak akan mengubah hasilnya secara signifikan.\n",
    "<br><br>   \n",
    "4. Model yang sudah dibangun ini bisa dimanfaatkan untuk pengembangan pembuatan model lainnya. Contohnya seperti pembuatan model untuk memprediksi update harga sepeda untuk tempat sepeda yang sudah memiliki review. Pembuatan model dengan tujuan seperti ini dapat memanfaatkan data asli rilisan dari bike sharing (yang bukan diambil dari Kaggle) yang mungkin memiliki kolom 'review' dari customer. Jika memang ada, kita dapat melakukan sentiment analysis untuk mendapatkan insight dari review customer tersebut. \n",
    "\n",
    "    Dalam prosesnya, tiap review dapat di-assign ke dalam -1 (untuk sentimen negatif) dan 1 (untuk sentimen positif). Nantinya, nilai review yang didapat untuk tiap listing yang sama akan dirata-ratakan, sehingga nantinya nilai akhir untuk tiap listing tersebut dapat kita gunakan sebagai fitur pada model. Pada akhirnya, akurasi prediksi dari model pun bisa lebih baik."
   ]
  },
  {
   "cell_type": "markdown",
   "metadata": {
    "id": "htRiTp9Hk-Bf"
   },
   "source": [
    "****"
   ]
  },
  {
   "cell_type": "markdown",
   "metadata": {
    "id": "XMriTmGWk-Bf"
   },
   "source": [
    "#### **Save Model**"
   ]
  },
  {
   "cell_type": "code",
   "execution_count": 982,
   "metadata": {
    "id": "7gNDN7Gtk-Bf"
   },
   "outputs": [],
   "source": [
    "#Save model\n",
    "import pickle\n",
    "\n",
    "estimator = Pipeline([('model', XGBRegressor())])\n",
    "estimator.fit(X_train, y_train)\n",
    "\n",
    "pickle.dump(estimator, open('Model_Bike_Sharing_XGB.sav', 'wb'))"
   ]
  },
  {
   "cell_type": "code",
   "execution_count": 983,
   "metadata": {
    "id": "fPZTLX5sk-Bf"
   },
   "outputs": [],
   "source": [
    "#Load model\n",
    "filename = 'Model_Bike_Sharing_XGB.sav'\n",
    "loaded_model = pickle.load(open(filename, 'rb'))"
   ]
  },
  {
   "cell_type": "code",
   "execution_count": 984,
   "metadata": {
    "id": "-kUg51mck-Bf"
   },
   "outputs": [
    {
     "data": {
      "text/plain": [
       "34.7497193417414"
      ]
     },
     "execution_count": 984,
     "metadata": {},
     "output_type": "execute_result"
    }
   ],
   "source": [
    "np.sqrt(mean_squared_error(y_test, loaded_model.predict(X_test)))"
   ]
  }
 ],
 "metadata": {
  "colab": {
   "provenance": []
  },
  "kernelspec": {
   "display_name": "Python 3.11.5 ('base')",
   "language": "python",
   "name": "python3"
  },
  "language_info": {
   "codemirror_mode": {
    "name": "ipython",
    "version": 3
   },
   "file_extension": ".py",
   "mimetype": "text/x-python",
   "name": "python",
   "nbconvert_exporter": "python",
   "pygments_lexer": "ipython3",
   "version": "3.11.5"
  },
  "vscode": {
   "interpreter": {
    "hash": "1b714fa2580d7f67815bc3503605833de8af1b6a5c291873d8e0176a7f15ad2c"
   }
  }
 },
 "nbformat": 4,
 "nbformat_minor": 1
}
